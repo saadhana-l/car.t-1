{
  "nbformat": 4,
  "nbformat_minor": 0,
  "metadata": {
    "colab": {
      "name": "car_data_vis.ipynb",
      "provenance": []
    },
    "kernelspec": {
      "name": "python3",
      "display_name": "Python 3"
    },
    "accelerator": "GPU"
  },
  "cells": [
    {
      "cell_type": "code",
      "metadata": {
        "id": "wi51eI7fWDye",
        "colab_type": "code",
        "colab": {}
      },
      "source": [
        "import pandas as pd\n",
        "import matplotlib.pyplot as plt\n",
        "%matplotlib inline\n",
        "import seaborn as sns\n",
        "sns.set(rc={'figure.figsize':(11.7,8.27)})"
      ],
      "execution_count": 0,
      "outputs": []
    },
    {
      "cell_type": "code",
      "metadata": {
        "id": "PBn9zo7-WMfD",
        "colab_type": "code",
        "outputId": "fead3895-7a01-4bd7-f791-c28115d78c70",
        "colab": {
          "base_uri": "https://localhost:8080/",
          "height": 34
        }
      },
      "source": [
        "from google.colab import drive\n",
        "drive.mount('/content/drive/')"
      ],
      "execution_count": 0,
      "outputs": [
        {
          "output_type": "stream",
          "text": [
            "Drive already mounted at /content/drive/; to attempt to forcibly remount, call drive.mount(\"/content/drive/\", force_remount=True).\n"
          ],
          "name": "stdout"
        }
      ]
    },
    {
      "cell_type": "code",
      "metadata": {
        "id": "Mnwzq5r6WPV3",
        "colab_type": "code",
        "outputId": "df298e09-2a26-40a2-892c-219293d306a6",
        "colab": {
          "base_uri": "https://localhost:8080/",
          "height": 34
        }
      },
      "source": [
        "cd /content/drive/My Drive/Colab Notebooks"
      ],
      "execution_count": 0,
      "outputs": [
        {
          "output_type": "stream",
          "text": [
            "/content/drive/My Drive/Colab Notebooks\n"
          ],
          "name": "stdout"
        }
      ]
    },
    {
      "cell_type": "code",
      "metadata": {
        "id": "1pGrq7IVWXQ7",
        "colab_type": "code",
        "colab": {}
      },
      "source": [
        "train = pd.read_csv('num_train.csv')"
      ],
      "execution_count": 0,
      "outputs": []
    },
    {
      "cell_type": "code",
      "metadata": {
        "id": "U2f5kodtWZyp",
        "colab_type": "code",
        "outputId": "56bdfcae-b7f1-40ee-ecce-5cc390523c95",
        "colab": {
          "base_uri": "https://localhost:8080/",
          "height": 197
        }
      },
      "source": [
        "train.head()"
      ],
      "execution_count": 0,
      "outputs": [
        {
          "output_type": "execute_result",
          "data": {
            "text/html": [
              "<div>\n",
              "<style scoped>\n",
              "    .dataframe tbody tr th:only-of-type {\n",
              "        vertical-align: middle;\n",
              "    }\n",
              "\n",
              "    .dataframe tbody tr th {\n",
              "        vertical-align: top;\n",
              "    }\n",
              "\n",
              "    .dataframe thead th {\n",
              "        text-align: right;\n",
              "    }\n",
              "</style>\n",
              "<table border=\"1\" class=\"dataframe\">\n",
              "  <thead>\n",
              "    <tr style=\"text-align: right;\">\n",
              "      <th></th>\n",
              "      <th>Location</th>\n",
              "      <th>Year</th>\n",
              "      <th>Kilometers_Driven</th>\n",
              "      <th>Fuel_Type</th>\n",
              "      <th>Transmission</th>\n",
              "      <th>Owner_Type</th>\n",
              "      <th>Mileage</th>\n",
              "      <th>Engine</th>\n",
              "      <th>Power</th>\n",
              "      <th>Seats</th>\n",
              "      <th>Brand</th>\n",
              "      <th>Price</th>\n",
              "    </tr>\n",
              "  </thead>\n",
              "  <tbody>\n",
              "    <tr>\n",
              "      <th>0</th>\n",
              "      <td>6</td>\n",
              "      <td>2010</td>\n",
              "      <td>72000</td>\n",
              "      <td>3</td>\n",
              "      <td>1</td>\n",
              "      <td>1</td>\n",
              "      <td>42.403246</td>\n",
              "      <td>998</td>\n",
              "      <td>58.16</td>\n",
              "      <td>5</td>\n",
              "      <td>25</td>\n",
              "      <td>1.75</td>\n",
              "    </tr>\n",
              "    <tr>\n",
              "      <th>1</th>\n",
              "      <td>9</td>\n",
              "      <td>2015</td>\n",
              "      <td>41000</td>\n",
              "      <td>2</td>\n",
              "      <td>1</td>\n",
              "      <td>1</td>\n",
              "      <td>40.716900</td>\n",
              "      <td>1582</td>\n",
              "      <td>126.20</td>\n",
              "      <td>5</td>\n",
              "      <td>22</td>\n",
              "      <td>12.50</td>\n",
              "    </tr>\n",
              "    <tr>\n",
              "      <th>2</th>\n",
              "      <td>8</td>\n",
              "      <td>2011</td>\n",
              "      <td>46000</td>\n",
              "      <td>5</td>\n",
              "      <td>1</td>\n",
              "      <td>1</td>\n",
              "      <td>42.811364</td>\n",
              "      <td>1199</td>\n",
              "      <td>88.70</td>\n",
              "      <td>5</td>\n",
              "      <td>21</td>\n",
              "      <td>4.50</td>\n",
              "    </tr>\n",
              "    <tr>\n",
              "      <th>3</th>\n",
              "      <td>8</td>\n",
              "      <td>2012</td>\n",
              "      <td>87000</td>\n",
              "      <td>2</td>\n",
              "      <td>1</td>\n",
              "      <td>1</td>\n",
              "      <td>42.993900</td>\n",
              "      <td>1248</td>\n",
              "      <td>88.76</td>\n",
              "      <td>7</td>\n",
              "      <td>25</td>\n",
              "      <td>6.00</td>\n",
              "    </tr>\n",
              "    <tr>\n",
              "      <th>4</th>\n",
              "      <td>1</td>\n",
              "      <td>2013</td>\n",
              "      <td>40670</td>\n",
              "      <td>2</td>\n",
              "      <td>0</td>\n",
              "      <td>2</td>\n",
              "      <td>31.464000</td>\n",
              "      <td>1968</td>\n",
              "      <td>140.80</td>\n",
              "      <td>5</td>\n",
              "      <td>9</td>\n",
              "      <td>17.74</td>\n",
              "    </tr>\n",
              "  </tbody>\n",
              "</table>\n",
              "</div>"
            ],
            "text/plain": [
              "   Location  Year  Kilometers_Driven  Fuel_Type  ...   Power  Seats  Brand  Price\n",
              "0         6  2010              72000          3  ...   58.16      5     25   1.75\n",
              "1         9  2015              41000          2  ...  126.20      5     22  12.50\n",
              "2         8  2011              46000          5  ...   88.70      5     21   4.50\n",
              "3         8  2012              87000          2  ...   88.76      7     25   6.00\n",
              "4         1  2013              40670          2  ...  140.80      5      9  17.74\n",
              "\n",
              "[5 rows x 12 columns]"
            ]
          },
          "metadata": {
            "tags": []
          },
          "execution_count": 57
        }
      ]
    },
    {
      "cell_type": "code",
      "metadata": {
        "id": "tZhmvlWMWdjS",
        "colab_type": "code",
        "outputId": "0f3beb6d-c3d9-4c1d-ca36-037edfb0cbc0",
        "colab": {
          "base_uri": "https://localhost:8080/",
          "height": 107
        }
      },
      "source": [
        "train.loc[train['Fuel_Type']==1]"
      ],
      "execution_count": 0,
      "outputs": [
        {
          "output_type": "execute_result",
          "data": {
            "text/html": [
              "<div>\n",
              "<style scoped>\n",
              "    .dataframe tbody tr th:only-of-type {\n",
              "        vertical-align: middle;\n",
              "    }\n",
              "\n",
              "    .dataframe tbody tr th {\n",
              "        vertical-align: top;\n",
              "    }\n",
              "\n",
              "    .dataframe thead th {\n",
              "        text-align: right;\n",
              "    }\n",
              "</style>\n",
              "<table border=\"1\" class=\"dataframe\">\n",
              "  <thead>\n",
              "    <tr style=\"text-align: right;\">\n",
              "      <th></th>\n",
              "      <th>Location</th>\n",
              "      <th>Year</th>\n",
              "      <th>Kilometers_Driven</th>\n",
              "      <th>Fuel_Type</th>\n",
              "      <th>Transmission</th>\n",
              "      <th>Owner_Type</th>\n",
              "      <th>Mileage</th>\n",
              "      <th>Engine</th>\n",
              "      <th>Power</th>\n",
              "      <th>Seats</th>\n",
              "      <th>Brand</th>\n",
              "      <th>Price</th>\n",
              "    </tr>\n",
              "  </thead>\n",
              "  <tbody>\n",
              "    <tr>\n",
              "      <th>4446</th>\n",
              "      <td>8</td>\n",
              "      <td>2016</td>\n",
              "      <td>50000</td>\n",
              "      <td>1</td>\n",
              "      <td>0</td>\n",
              "      <td>1</td>\n",
              "      <td>124.27</td>\n",
              "      <td>72</td>\n",
              "      <td>41.0</td>\n",
              "      <td>5</td>\n",
              "      <td>17</td>\n",
              "      <td>13.00</td>\n",
              "    </tr>\n",
              "    <tr>\n",
              "      <th>4904</th>\n",
              "      <td>6</td>\n",
              "      <td>2011</td>\n",
              "      <td>44000</td>\n",
              "      <td>1</td>\n",
              "      <td>0</td>\n",
              "      <td>1</td>\n",
              "      <td>95.00</td>\n",
              "      <td>1798</td>\n",
              "      <td>73.0</td>\n",
              "      <td>5</td>\n",
              "      <td>14</td>\n",
              "      <td>12.75</td>\n",
              "    </tr>\n",
              "  </tbody>\n",
              "</table>\n",
              "</div>"
            ],
            "text/plain": [
              "      Location  Year  Kilometers_Driven  Fuel_Type  ...  Power  Seats  Brand  Price\n",
              "4446         8  2016              50000          1  ...   41.0      5     17  13.00\n",
              "4904         6  2011              44000          1  ...   73.0      5     14  12.75\n",
              "\n",
              "[2 rows x 12 columns]"
            ]
          },
          "metadata": {
            "tags": []
          },
          "execution_count": 58
        }
      ]
    },
    {
      "cell_type": "code",
      "metadata": {
        "id": "Pz0wa0DgXxHS",
        "colab_type": "code",
        "colab": {}
      },
      "source": [
        "train = train.drop([4446,4904])"
      ],
      "execution_count": 0,
      "outputs": []
    },
    {
      "cell_type": "code",
      "metadata": {
        "id": "nLnDIj3GYbWj",
        "colab_type": "code",
        "outputId": "d8e455ea-2503-4eb5-c9f8-0a760f602374",
        "colab": {
          "base_uri": "https://localhost:8080/",
          "height": 318
        }
      },
      "source": [
        "train.info()"
      ],
      "execution_count": 0,
      "outputs": [
        {
          "output_type": "stream",
          "text": [
            "<class 'pandas.core.frame.DataFrame'>\n",
            "Int64Index: 6017 entries, 0 to 6018\n",
            "Data columns (total 12 columns):\n",
            "Location             6017 non-null int64\n",
            "Year                 6017 non-null int64\n",
            "Kilometers_Driven    6017 non-null int64\n",
            "Fuel_Type            6017 non-null int64\n",
            "Transmission         6017 non-null int64\n",
            "Owner_Type           6017 non-null int64\n",
            "Mileage              6017 non-null float64\n",
            "Engine               6017 non-null int64\n",
            "Power                6017 non-null float64\n",
            "Seats                6017 non-null int64\n",
            "Brand                6017 non-null int64\n",
            "Price                6017 non-null float64\n",
            "dtypes: float64(3), int64(9)\n",
            "memory usage: 611.1 KB\n"
          ],
          "name": "stdout"
        }
      ]
    },
    {
      "cell_type": "code",
      "metadata": {
        "id": "JoWAJFiBrkFZ",
        "colab_type": "code",
        "colab": {}
      },
      "source": [
        "edit = {\n",
        "    2:1,\n",
        "    3:2,\n",
        "    4:3,\n",
        "    5:4\n",
        "}\n",
        "train['Fuel_Type'] = train['Fuel_Type'].map(edit)"
      ],
      "execution_count": 0,
      "outputs": []
    },
    {
      "cell_type": "code",
      "metadata": {
        "id": "Q1I9AYPEr4OF",
        "colab_type": "code",
        "outputId": "9def7c35-6374-46eb-d0d0-1cee514663f4",
        "colab": {
          "base_uri": "https://localhost:8080/",
          "height": 615
        }
      },
      "source": [
        "sns.heatmap(train.corr(),annot=True)"
      ],
      "execution_count": 0,
      "outputs": [
        {
          "output_type": "execute_result",
          "data": {
            "text/plain": [
              "<matplotlib.axes._subplots.AxesSubplot at 0x7f1441677e10>"
            ]
          },
          "metadata": {
            "tags": []
          },
          "execution_count": 66
        },
        {
          "output_type": "display_data",
          "data": {
            "image/png": "[encoded data removed]",
            "text/plain": [
              "<Figure size 842.4x595.44 with 2 Axes>"
            ]
          },
          "metadata": {
            "tags": []
          }
        }
      ]
    },
    {
      "cell_type": "code",
      "metadata": {
        "id": "lIRubUjLtW-n",
        "colab_type": "code",
        "colab": {}
      },
      "source": [
        "train.to_csv('new_train.csv',index=False)"
      ],
      "execution_count": 0,
      "outputs": []
    },
    {
      "cell_type": "code",
      "metadata": {
        "id": "6H8zY4Wv08C7",
        "colab_type": "code",
        "colab": {}
      },
      "source": [
        "import numpy as np\n",
        "import xgboost as xgb\n",
        "from xgboost.sklearn import XGBRegressor\n",
        "from sklearn import metrics\n",
        "from sklearn.model_selection import GridSearchCV,cross_val_score\n",
        "from sklearn.model_selection import train_test_split\n"
      ],
      "execution_count": 0,
      "outputs": []
    },
    {
      "cell_type": "code",
      "metadata": {
        "id": "qccauD7I2-rA",
        "colab_type": "code",
        "colab": {}
      },
      "source": [
        "y = train['Price']\n",
        "train.drop('Price',axis=1,inplace=True)\n",
        "X = train.values\n"
      ],
      "execution_count": 0,
      "outputs": []
    },
    {
      "cell_type": "code",
      "metadata": {
        "id": "elsFu6nt3kJa",
        "colab_type": "code",
        "outputId": "1697e11c-b543-4d1a-9993-2b267c96fc0c",
        "colab": {
          "base_uri": "https://localhost:8080/",
          "height": 34
        }
      },
      "source": [
        "X.shape"
      ],
      "execution_count": 0,
      "outputs": [
        {
          "output_type": "execute_result",
          "data": {
            "text/plain": [
              "(6017, 11)"
            ]
          },
          "metadata": {
            "tags": []
          },
          "execution_count": 71
        }
      ]
    },
    {
      "cell_type": "code",
      "metadata": {
        "id": "-N9yQbP93o6N",
        "colab_type": "code",
        "colab": {}
      },
      "source": [
        "x_train, x_test, y_train, y_test = train_test_split(    \n",
        "    X, y, test_size=0.2, random_state=103)"
      ],
      "execution_count": 0,
      "outputs": []
    },
    {
      "cell_type": "code",
      "metadata": {
        "id": "fh8b4yeM3x9d",
        "colab_type": "code",
        "outputId": "415cbee1-63f1-48a9-9ca0-477fb9f75046",
        "colab": {
          "base_uri": "https://localhost:8080/",
          "height": 336
        }
      },
      "source": [
        "#Grid seach on subsample and max_features\n",
        "#Choose all predictors except target & IDcols\n",
        "param_test1 = {\n",
        "    #'max_depth':range(3,10,2),\n",
        "    'min_child_weight':range(5,10,2)\n",
        "}\n",
        "gsearch1 = GridSearchCV(estimator = XGBRegressor( learning_rate =0.1, n_estimators=1000, max_depth=5,\n",
        "                                        min_child_weight=1, gamma=0, subsample=0.8, colsample_bytree=0.8,\n",
        "                                        objective= 'reg:squarederror', nthread=4, scale_pos_weight=1, seed=23), \n",
        "                       param_grid = param_test1, scoring='r2',n_jobs=4,iid=False, cv=5)\n",
        "gsearch1.fit(x_train,y_train)"
      ],
      "execution_count": 0,
      "outputs": [
        {
          "output_type": "stream",
          "text": [
            "/usr/local/lib/python3.6/dist-packages/xgboost/core.py:587: FutureWarning: Series.base is deprecated and will be removed in a future version\n",
            "  if getattr(data, 'base', None) is not None and \\\n"
          ],
          "name": "stderr"
        },
        {
          "output_type": "execute_result",
          "data": {
            "text/plain": [
              "GridSearchCV(cv=5, error_score='raise-deprecating',\n",
              "             estimator=XGBRegressor(base_score=0.5, booster='gbtree',\n",
              "                                    colsample_bylevel=1, colsample_bynode=1,\n",
              "                                    colsample_bytree=0.8, gamma=0,\n",
              "                                    importance_type='gain', learning_rate=0.1,\n",
              "                                    max_delta_step=0, max_depth=5,\n",
              "                                    min_child_weight=1, missing=None,\n",
              "                                    n_estimators=1000, n_jobs=1, nthread=4,\n",
              "                                    objective='reg:squarederror',\n",
              "                                    random_state=0, reg_alpha=0, reg_lambda=1,\n",
              "                                    scale_pos_weight=1, seed=23, silent=None,\n",
              "                                    subsample=0.8, verbosity=1),\n",
              "             iid=False, n_jobs=4,\n",
              "             param_grid={'min_child_weight': range(5, 10, 2)},\n",
              "             pre_dispatch='2*n_jobs', refit=True, return_train_score=False,\n",
              "             scoring='r2', verbose=0)"
            ]
          },
          "metadata": {
            "tags": []
          },
          "execution_count": 78
        }
      ]
    },
    {
      "cell_type": "code",
      "metadata": {
        "id": "6mpzrNCA5Qz8",
        "colab_type": "code",
        "outputId": "b038b45f-62ac-4652-a683-6ffbd596192d",
        "colab": {
          "base_uri": "https://localhost:8080/",
          "height": 34
        }
      },
      "source": [
        "gsearch1.best_params_, gsearch1.best_score_   #old values :({'max_depth': 5, 'min_child_weight': 5}, 0.9385341912113608)"
      ],
      "execution_count": 0,
      "outputs": [
        {
          "output_type": "execute_result",
          "data": {
            "text/plain": [
              "({'min_child_weight': 5}, 0.9385341912113608)"
            ]
          },
          "metadata": {
            "tags": []
          },
          "execution_count": 79
        }
      ]
    },
    {
      "cell_type": "code",
      "metadata": {
        "id": "OmTyzMPb9Lic",
        "colab_type": "code",
        "outputId": "8d4a7281-3e2f-4b5b-c471-a8c1617488fc",
        "colab": {
          "base_uri": "https://localhost:8080/",
          "height": 141
        }
      },
      "source": [
        "gsearch1.best_estimator_"
      ],
      "execution_count": 0,
      "outputs": [
        {
          "output_type": "execute_result",
          "data": {
            "text/plain": [
              "XGBRegressor(base_score=0.5, booster='gbtree', colsample_bylevel=1,\n",
              "             colsample_bynode=1, colsample_bytree=0.8, gamma=0,\n",
              "             importance_type='gain', learning_rate=0.1, max_delta_step=0,\n",
              "             max_depth=5, min_child_weight=5, missing=None, n_estimators=1000,\n",
              "             n_jobs=1, nthread=4, objective='reg:squarederror', random_state=0,\n",
              "             reg_alpha=0, reg_lambda=1, scale_pos_weight=1, seed=23,\n",
              "             silent=None, subsample=0.8, verbosity=1)"
            ]
          },
          "metadata": {
            "tags": []
          },
          "execution_count": 88
        }
      ]
    },
    {
      "cell_type": "code",
      "metadata": {
        "id": "nej0_v2I6cab",
        "colab_type": "code",
        "outputId": "c51c9604-11b3-4bdf-c7db-ed50a805c1d3",
        "colab": {
          "base_uri": "https://localhost:8080/",
          "height": 354
        }
      },
      "source": [
        "#Grid seach on subsample and max_features\n",
        "#Choose all predictors except target & IDcols\n",
        "param_test1 = {\n",
        "    'max_depth':[4,5,6],\n",
        "    'min_child_weight':[3,4,5,6]\n",
        "}\n",
        "gsearch2 = GridSearchCV(estimator =gsearch1.best_estimator_, param_grid = param_test1, scoring='r2',n_jobs=4,iid=False, cv=5)\n",
        "gsearch2.fit(x_train,y_train)"
      ],
      "execution_count": 0,
      "outputs": [
        {
          "output_type": "stream",
          "text": [
            "/usr/local/lib/python3.6/dist-packages/xgboost/core.py:587: FutureWarning: Series.base is deprecated and will be removed in a future version\n",
            "  if getattr(data, 'base', None) is not None and \\\n"
          ],
          "name": "stderr"
        },
        {
          "output_type": "execute_result",
          "data": {
            "text/plain": [
              "GridSearchCV(cv=5, error_score='raise-deprecating',\n",
              "             estimator=XGBRegressor(base_score=0.5, booster='gbtree',\n",
              "                                    colsample_bylevel=1, colsample_bynode=1,\n",
              "                                    colsample_bytree=0.8, gamma=0,\n",
              "                                    importance_type='gain', learning_rate=0.1,\n",
              "                                    max_delta_step=0, max_depth=5,\n",
              "                                    min_child_weight=5, missing=None,\n",
              "                                    n_estimators=1000, n_jobs=1, nthread=4,\n",
              "                                    objective='reg:squarederror',\n",
              "                                    random_state=0, reg_alpha=0, reg_lambda=1,\n",
              "                                    scale_pos_weight=1, seed=23, silent=None,\n",
              "                                    subsample=0.8, verbosity=1),\n",
              "             iid=False, n_jobs=4,\n",
              "             param_grid={'max_depth': [4, 5, 6],\n",
              "                         'min_child_weight': [3, 4, 5, 6]},\n",
              "             pre_dispatch='2*n_jobs', refit=True, return_train_score=False,\n",
              "             scoring='r2', verbose=0)"
            ]
          },
          "metadata": {
            "tags": []
          },
          "execution_count": 89
        }
      ]
    },
    {
      "cell_type": "code",
      "metadata": {
        "id": "pk-bxm3X7gwQ",
        "colab_type": "code",
        "outputId": "43cac47a-8a36-47d6-ed5d-cadf2a32df12",
        "colab": {
          "base_uri": "https://localhost:8080/",
          "height": 34
        }
      },
      "source": [
        "gsearch2.best_params_, gsearch2.best_score_"
      ],
      "execution_count": 0,
      "outputs": [
        {
          "output_type": "execute_result",
          "data": {
            "text/plain": [
              "({'max_depth': 5, 'min_child_weight': 4}, 0.9386167243054626)"
            ]
          },
          "metadata": {
            "tags": []
          },
          "execution_count": 90
        }
      ]
    },
    {
      "cell_type": "code",
      "metadata": {
        "id": "5u3QUCKI8Bif",
        "colab_type": "code",
        "outputId": "c7d50551-0d13-44bd-8269-42a0a7600652",
        "colab": {
          "base_uri": "https://localhost:8080/",
          "height": 354
        }
      },
      "source": [
        "param_test3 = {\n",
        " 'gamma':[i/10.0 for i in range(0,15)]\n",
        "}\n",
        "gsearch3 = GridSearchCV(estimator = gsearch2.best_estimator_, \n",
        " param_grid = param_test3, scoring='r2',n_jobs=4,iid=False, cv=5)\n",
        "gsearch3.fit(x_train,y_train)"
      ],
      "execution_count": 0,
      "outputs": [
        {
          "output_type": "stream",
          "text": [
            "/usr/local/lib/python3.6/dist-packages/xgboost/core.py:587: FutureWarning: Series.base is deprecated and will be removed in a future version\n",
            "  if getattr(data, 'base', None) is not None and \\\n"
          ],
          "name": "stderr"
        },
        {
          "output_type": "execute_result",
          "data": {
            "text/plain": [
              "GridSearchCV(cv=5, error_score='raise-deprecating',\n",
              "             estimator=XGBRegressor(base_score=0.5, booster='gbtree',\n",
              "                                    colsample_bylevel=1, colsample_bynode=1,\n",
              "                                    colsample_bytree=0.8, gamma=0,\n",
              "                                    importance_type='gain', learning_rate=0.1,\n",
              "                                    max_delta_step=0, max_depth=5,\n",
              "                                    min_child_weight=4, missing=None,\n",
              "                                    n_estimators=1000, n_jobs=1, nthread=4,\n",
              "                                    objective='reg:squarederror',\n",
              "                                    random_state=0, reg_alpha=0, reg_lambda=1,\n",
              "                                    scale_pos_weight=1, seed=23, silent=None,\n",
              "                                    subsample=0.8, verbosity=1),\n",
              "             iid=False, n_jobs=4,\n",
              "             param_grid={'gamma': [0.0, 0.1, 0.2, 0.3, 0.4, 0.5, 0.6, 0.7, 0.8,\n",
              "                                   0.9, 1.0, 1.1, 1.2, 1.3, 1.4]},\n",
              "             pre_dispatch='2*n_jobs', refit=True, return_train_score=False,\n",
              "             scoring='r2', verbose=0)"
            ]
          },
          "metadata": {
            "tags": []
          },
          "execution_count": 91
        }
      ]
    },
    {
      "cell_type": "code",
      "metadata": {
        "id": "WnN8PHlu-yKG",
        "colab_type": "code",
        "outputId": "6780a4ab-c72c-4694-f42e-cc330365ffe8",
        "colab": {
          "base_uri": "https://localhost:8080/",
          "height": 34
        }
      },
      "source": [
        "gsearch3.best_params_, gsearch3.best_score_"
      ],
      "execution_count": 0,
      "outputs": [
        {
          "output_type": "execute_result",
          "data": {
            "text/plain": [
              "({'gamma': 1.1}, 0.9396412360327261)"
            ]
          },
          "metadata": {
            "tags": []
          },
          "execution_count": 92
        }
      ]
    },
    {
      "cell_type": "code",
      "metadata": {
        "id": "6qnw6pRs_rE7",
        "colab_type": "code",
        "outputId": "09dc6527-f2ea-4f72-e74b-92ea4a5896ea",
        "colab": {
          "base_uri": "https://localhost:8080/",
          "height": 354
        }
      },
      "source": [
        "param_test4 = {\n",
        " 'subsample':[i/10.0 for i in range(6,10)],\n",
        " 'colsample_bytree':[i/10.0 for i in range(6,10)]\n",
        "}\n",
        "gsearch4 = GridSearchCV(estimator = gsearch3.best_estimator_, \n",
        " param_grid = param_test4, scoring='r2',n_jobs=4,iid=False, cv=5)\n",
        "gsearch4.fit(x_train,y_train)"
      ],
      "execution_count": 0,
      "outputs": [
        {
          "output_type": "stream",
          "text": [
            "/usr/local/lib/python3.6/dist-packages/xgboost/core.py:587: FutureWarning: Series.base is deprecated and will be removed in a future version\n",
            "  if getattr(data, 'base', None) is not None and \\\n"
          ],
          "name": "stderr"
        },
        {
          "output_type": "execute_result",
          "data": {
            "text/plain": [
              "GridSearchCV(cv=5, error_score='raise-deprecating',\n",
              "             estimator=XGBRegressor(base_score=0.5, booster='gbtree',\n",
              "                                    colsample_bylevel=1, colsample_bynode=1,\n",
              "                                    colsample_bytree=0.8, gamma=1.1,\n",
              "                                    importance_type='gain', learning_rate=0.1,\n",
              "                                    max_delta_step=0, max_depth=5,\n",
              "                                    min_child_weight=4, missing=None,\n",
              "                                    n_estimators=1000, n_jobs=1, nthread=4,\n",
              "                                    objective='reg:squarederror',\n",
              "                                    random_state=0, reg_alpha=0, reg_lambda=1,\n",
              "                                    scale_pos_weight=1, seed=23, silent=None,\n",
              "                                    subsample=0.8, verbosity=1),\n",
              "             iid=False, n_jobs=4,\n",
              "             param_grid={'colsample_bytree': [0.6, 0.7, 0.8, 0.9],\n",
              "                         'subsample': [0.6, 0.7, 0.8, 0.9]},\n",
              "             pre_dispatch='2*n_jobs', refit=True, return_train_score=False,\n",
              "             scoring='r2', verbose=0)"
            ]
          },
          "metadata": {
            "tags": []
          },
          "execution_count": 93
        }
      ]
    },
    {
      "cell_type": "code",
      "metadata": {
        "id": "yFjv6dP4_8VM",
        "colab_type": "code",
        "outputId": "d60afaad-a3a5-4f1e-dedc-110d26f4c44a",
        "colab": {
          "base_uri": "https://localhost:8080/",
          "height": 34
        }
      },
      "source": [
        "gsearch4.best_params_, gsearch4.best_score_"
      ],
      "execution_count": 0,
      "outputs": [
        {
          "output_type": "execute_result",
          "data": {
            "text/plain": [
              "({'colsample_bytree': 0.8, 'subsample': 0.8}, 0.9396412360327261)"
            ]
          },
          "metadata": {
            "tags": []
          },
          "execution_count": 94
        }
      ]
    },
    {
      "cell_type": "code",
      "metadata": {
        "id": "-EJxSoV2AzAl",
        "colab_type": "code",
        "outputId": "b8e59944-6355-4dc5-ed00-a5ab1469b7c9",
        "colab": {
          "base_uri": "https://localhost:8080/",
          "height": 354
        }
      },
      "source": [
        "param_test5 = {\n",
        " 'subsample':[i/100.0 for i in range(65,86,5)],\n",
        " 'colsample_bytree':[i/100.0 for i in range(65,86,5)]\n",
        "}\n",
        "gsearch5 = GridSearchCV(estimator = gsearch4.best_estimator_, \n",
        " param_grid = param_test5, scoring='r2',n_jobs=4,iid=False, cv=5)\n",
        "gsearch5.fit(x_train,y_train)"
      ],
      "execution_count": 0,
      "outputs": [
        {
          "output_type": "stream",
          "text": [
            "/usr/local/lib/python3.6/dist-packages/xgboost/core.py:587: FutureWarning: Series.base is deprecated and will be removed in a future version\n",
            "  if getattr(data, 'base', None) is not None and \\\n"
          ],
          "name": "stderr"
        },
        {
          "output_type": "execute_result",
          "data": {
            "text/plain": [
              "GridSearchCV(cv=5, error_score='raise-deprecating',\n",
              "             estimator=XGBRegressor(base_score=0.5, booster='gbtree',\n",
              "                                    colsample_bylevel=1, colsample_bynode=1,\n",
              "                                    colsample_bytree=0.8, gamma=1.1,\n",
              "                                    importance_type='gain', learning_rate=0.1,\n",
              "                                    max_delta_step=0, max_depth=5,\n",
              "                                    min_child_weight=4, missing=None,\n",
              "                                    n_estimators=1000, n_jobs=1, nthread=4,\n",
              "                                    objective='reg:squarederror',\n",
              "                                    random_state=0, reg_alpha=0, reg_lambda=1,\n",
              "                                    scale_pos_weight=1, seed=23, silent=None,\n",
              "                                    subsample=0.8, verbosity=1),\n",
              "             iid=False, n_jobs=4,\n",
              "             param_grid={'colsample_bytree': [0.65, 0.7, 0.75, 0.8, 0.85],\n",
              "                         'subsample': [0.65, 0.7, 0.75, 0.8, 0.85]},\n",
              "             pre_dispatch='2*n_jobs', refit=True, return_train_score=False,\n",
              "             scoring='r2', verbose=0)"
            ]
          },
          "metadata": {
            "tags": []
          },
          "execution_count": 95
        }
      ]
    },
    {
      "cell_type": "code",
      "metadata": {
        "id": "KBYZKQSMBOAf",
        "colab_type": "code",
        "outputId": "2d394a36-00f2-4aad-9437-ccafe1de34e9",
        "colab": {
          "base_uri": "https://localhost:8080/",
          "height": 34
        }
      },
      "source": [
        "gsearch5.best_params_, gsearch5.best_score_"
      ],
      "execution_count": 0,
      "outputs": [
        {
          "output_type": "execute_result",
          "data": {
            "text/plain": [
              "({'colsample_bytree': 0.75, 'subsample': 0.85}, 0.9409976450021926)"
            ]
          },
          "metadata": {
            "tags": []
          },
          "execution_count": 96
        }
      ]
    },
    {
      "cell_type": "code",
      "metadata": {
        "id": "_fedQ1zDCo_3",
        "colab_type": "code",
        "outputId": "b58f8cde-708c-481c-adbe-a238735cd633",
        "colab": {
          "base_uri": "https://localhost:8080/",
          "height": 336
        }
      },
      "source": [
        "param_test6 = {\n",
        " 'reg_alpha':[1e-6,1e-5,1e-3,1e-2, 1e-4]\n",
        "}\n",
        "gsearch6 = GridSearchCV(estimator = gsearch5.best_estimator_, \n",
        " param_grid = param_test6, scoring='r2',n_jobs=4,iid=False, cv=5)\n",
        "gsearch6.fit(x_train,y_train)"
      ],
      "execution_count": 0,
      "outputs": [
        {
          "output_type": "stream",
          "text": [
            "/usr/local/lib/python3.6/dist-packages/xgboost/core.py:587: FutureWarning: Series.base is deprecated and will be removed in a future version\n",
            "  if getattr(data, 'base', None) is not None and \\\n"
          ],
          "name": "stderr"
        },
        {
          "output_type": "execute_result",
          "data": {
            "text/plain": [
              "GridSearchCV(cv=5, error_score='raise-deprecating',\n",
              "             estimator=XGBRegressor(base_score=0.5, booster='gbtree',\n",
              "                                    colsample_bylevel=1, colsample_bynode=1,\n",
              "                                    colsample_bytree=0.75, gamma=1.1,\n",
              "                                    importance_type='gain', learning_rate=0.1,\n",
              "                                    max_delta_step=0, max_depth=5,\n",
              "                                    min_child_weight=4, missing=None,\n",
              "                                    n_estimators=1000, n_jobs=1, nthread=4,\n",
              "                                    objective='reg:squarederror',\n",
              "                                    random_state=0, reg_alpha=0, reg_lambda=1,\n",
              "                                    scale_pos_weight=1, seed=23, silent=None,\n",
              "                                    subsample=0.85, verbosity=1),\n",
              "             iid=False, n_jobs=4,\n",
              "             param_grid={'reg_alpha': [1e-06, 1e-05, 0.001, 0.01, 0.0001]},\n",
              "             pre_dispatch='2*n_jobs', refit=True, return_train_score=False,\n",
              "             scoring='r2', verbose=0)"
            ]
          },
          "metadata": {
            "tags": []
          },
          "execution_count": 99
        }
      ]
    },
    {
      "cell_type": "code",
      "metadata": {
        "id": "KNi56a9tC6GC",
        "colab_type": "code",
        "outputId": "eb19015d-ec05-4396-e065-b2c24fb0575f",
        "colab": {
          "base_uri": "https://localhost:8080/",
          "height": 34
        }
      },
      "source": [
        "gsearch6.best_params_, gsearch6.best_score_    #old values {'reg_alpha': 1e-05}, 0.9409976537321864"
      ],
      "execution_count": 0,
      "outputs": [
        {
          "output_type": "execute_result",
          "data": {
            "text/plain": [
              "({'reg_alpha': 1e-05}, 0.9409976537321864)"
            ]
          },
          "metadata": {
            "tags": []
          },
          "execution_count": 100
        }
      ]
    },
    {
      "cell_type": "code",
      "metadata": {
        "id": "aWmynXaaDSlp",
        "colab_type": "code",
        "outputId": "557ab1ee-b862-4335-ab2d-66ad9540722f",
        "colab": {
          "base_uri": "https://localhost:8080/",
          "height": 354
        }
      },
      "source": [
        "param_test7 = {\n",
        " 'learning_rate':[0.1,0.01,0.001],\n",
        "    'n_estimators':[800,900,1000,1100,1200]\n",
        "}\n",
        "gsearch7 = GridSearchCV(estimator = gsearch6.best_estimator_, \n",
        " param_grid = param_test7, scoring='r2',n_jobs=4,iid=False, cv=5)\n",
        "gsearch7.fit(x_train,y_train)"
      ],
      "execution_count": 0,
      "outputs": [
        {
          "output_type": "stream",
          "text": [
            "/usr/local/lib/python3.6/dist-packages/xgboost/core.py:587: FutureWarning: Series.base is deprecated and will be removed in a future version\n",
            "  if getattr(data, 'base', None) is not None and \\\n"
          ],
          "name": "stderr"
        },
        {
          "output_type": "execute_result",
          "data": {
            "text/plain": [
              "GridSearchCV(cv=5, error_score='raise-deprecating',\n",
              "             estimator=XGBRegressor(base_score=0.5, booster='gbtree',\n",
              "                                    colsample_bylevel=1, colsample_bynode=1,\n",
              "                                    colsample_bytree=0.75, gamma=1.1,\n",
              "                                    importance_type='gain', learning_rate=0.1,\n",
              "                                    max_delta_step=0, max_depth=5,\n",
              "                                    min_child_weight=4, missing=None,\n",
              "                                    n_estimators=1000, n_jobs=1, nthread=4,\n",
              "                                    objective='reg:squarederror',\n",
              "                                    random_state=0, reg_alpha=1e-05,\n",
              "                                    reg_lambda=1, scale_pos_weight=1, seed=23,\n",
              "                                    silent=None, subsample=0.85, verbosity=1),\n",
              "             iid=False, n_jobs=4,\n",
              "             param_grid={'learning_rate': [0.1, 0.01, 0.001],\n",
              "                         'n_estimators': [800, 900, 1000, 1100, 1200]},\n",
              "             pre_dispatch='2*n_jobs', refit=True, return_train_score=False,\n",
              "             scoring='r2', verbose=0)"
            ]
          },
          "metadata": {
            "tags": []
          },
          "execution_count": 101
        }
      ]
    },
    {
      "cell_type": "code",
      "metadata": {
        "id": "v-_mIV3KEXoQ",
        "colab_type": "code",
        "outputId": "76bda9bf-6a38-416c-8b97-a708b62245f6",
        "colab": {
          "base_uri": "https://localhost:8080/",
          "height": 34
        }
      },
      "source": [
        "gsearch7.best_params_, gsearch7.best_score_ "
      ],
      "execution_count": 0,
      "outputs": [
        {
          "output_type": "execute_result",
          "data": {
            "text/plain": [
              "({'learning_rate': 0.1, 'n_estimators': 800}, 0.9410358869047674)"
            ]
          },
          "metadata": {
            "tags": []
          },
          "execution_count": 102
        }
      ]
    },
    {
      "cell_type": "code",
      "metadata": {
        "id": "V7Z4brORGCtH",
        "colab_type": "code",
        "outputId": "808f61ea-aa67-4a5f-8d37-9bcb27bf0313",
        "colab": {
          "base_uri": "https://localhost:8080/",
          "height": 354
        }
      },
      "source": [
        "param_test8 = {\n",
        "    'n_estimators':[472,474,476,478,480,481,482,483,484,486,488]\n",
        "}\n",
        "gsearch8 = GridSearchCV(estimator =gsearch7.best_estimator_, \n",
        " param_grid = param_test8, scoring='r2',n_jobs=4,iid=False, cv=5)\n",
        "gsearch8.fit(x_train,y_train)"
      ],
      "execution_count": 0,
      "outputs": [
        {
          "output_type": "stream",
          "text": [
            "/usr/local/lib/python3.6/dist-packages/xgboost/core.py:587: FutureWarning: Series.base is deprecated and will be removed in a future version\n",
            "  if getattr(data, 'base', None) is not None and \\\n"
          ],
          "name": "stderr"
        },
        {
          "output_type": "execute_result",
          "data": {
            "text/plain": [
              "GridSearchCV(cv=5, error_score='raise-deprecating',\n",
              "             estimator=XGBRegressor(base_score=0.5, booster='gbtree',\n",
              "                                    colsample_bylevel=1, colsample_bynode=1,\n",
              "                                    colsample_bytree=0.75, gamma=1.1,\n",
              "                                    importance_type='gain', learning_rate=0.1,\n",
              "                                    max_delta_step=0, max_depth=5,\n",
              "                                    min_child_weight=4, missing=None,\n",
              "                                    n_estimators=800, n_jobs=1, nthread=4,\n",
              "                                    objective='reg:squarederror',\n",
              "                                    random_state=0, reg_alpha=1e-05,\n",
              "                                    reg_lambda=1, scale_pos_weight=1, seed=23,\n",
              "                                    silent=None, subsample=0.85, verbosity=1),\n",
              "             iid=False, n_jobs=4,\n",
              "             param_grid={'n_estimators': [472, 474, 476, 478, 480, 481, 482,\n",
              "                                          483, 484, 486, 488]},\n",
              "             pre_dispatch='2*n_jobs', refit=True, return_train_score=False,\n",
              "             scoring='r2', verbose=0)"
            ]
          },
          "metadata": {
            "tags": []
          },
          "execution_count": 118
        }
      ]
    },
    {
      "cell_type": "code",
      "metadata": {
        "id": "n6Z3jEZDGWdB",
        "colab_type": "code",
        "outputId": "55fd4416-3486-453f-842e-75044bc4de84",
        "colab": {
          "base_uri": "https://localhost:8080/",
          "height": 34
        }
      },
      "source": [
        "gsearch8.best_params_, gsearch8.best_score_  #{'n_estimators': 500}, 0.9412888207673402"
      ],
      "execution_count": 0,
      "outputs": [
        {
          "output_type": "execute_result",
          "data": {
            "text/plain": [
              "({'n_estimators': 483}, 0.9413544033024553)"
            ]
          },
          "metadata": {
            "tags": []
          },
          "execution_count": 119
        }
      ]
    },
    {
      "cell_type": "code",
      "metadata": {
        "id": "QtHh7mrjHNqI",
        "colab_type": "code",
        "outputId": "a3ff6d5a-3556-4137-fbd3-a99180f9fda3",
        "colab": {
          "base_uri": "https://localhost:8080/",
          "height": 336
        }
      },
      "source": [
        "param_test9 = {\n",
        "    'max_delta_step':[1,2,3,4,5,6,7,8,9,0,10]\n",
        "}\n",
        "gsearch9 = GridSearchCV(estimator =gsearch8.best_estimator_, \n",
        " param_grid = param_test9, scoring='r2',n_jobs=4,iid=False, cv=5)\n",
        "gsearch9.fit(x_train,y_train)"
      ],
      "execution_count": 0,
      "outputs": [
        {
          "output_type": "stream",
          "text": [
            "/usr/local/lib/python3.6/dist-packages/xgboost/core.py:587: FutureWarning: Series.base is deprecated and will be removed in a future version\n",
            "  if getattr(data, 'base', None) is not None and \\\n"
          ],
          "name": "stderr"
        },
        {
          "output_type": "execute_result",
          "data": {
            "text/plain": [
              "GridSearchCV(cv=5, error_score='raise-deprecating',\n",
              "             estimator=XGBRegressor(base_score=0.5, booster='gbtree',\n",
              "                                    colsample_bylevel=1, colsample_bynode=1,\n",
              "                                    colsample_bytree=0.75, gamma=1.1,\n",
              "                                    importance_type='gain', learning_rate=0.1,\n",
              "                                    max_delta_step=0, max_depth=5,\n",
              "                                    min_child_weight=4, missing=None,\n",
              "                                    n_estimators=483, n_jobs=1, nthread=4,\n",
              "                                    objective='reg:squarederror',\n",
              "                                    random_state=0, reg_alpha=1e-05,\n",
              "                                    reg_lambda=1, scale_pos_weight=1, seed=23,\n",
              "                                    silent=None, subsample=0.85, verbosity=1),\n",
              "             iid=False, n_jobs=4,\n",
              "             param_grid={'max_delta_step': [1, 2, 3, 4, 5, 6, 7, 8, 9, 0, 10]},\n",
              "             pre_dispatch='2*n_jobs', refit=True, return_train_score=False,\n",
              "             scoring='r2', verbose=0)"
            ]
          },
          "metadata": {
            "tags": []
          },
          "execution_count": 122
        }
      ]
    },
    {
      "cell_type": "code",
      "metadata": {
        "id": "RzYxiQ4YKrrM",
        "colab_type": "code",
        "outputId": "17b3918b-d086-4fc9-e24d-a43d187c4a6d",
        "colab": {
          "base_uri": "https://localhost:8080/",
          "height": 34
        }
      },
      "source": [
        "gsearch9.best_params_, gsearch9.best_score_  "
      ],
      "execution_count": 0,
      "outputs": [
        {
          "output_type": "execute_result",
          "data": {
            "text/plain": [
              "({'max_delta_step': 0}, 0.9413544033024553)"
            ]
          },
          "metadata": {
            "tags": []
          },
          "execution_count": 123
        }
      ]
    },
    {
      "cell_type": "code",
      "metadata": {
        "id": "gHHbagqZKv68",
        "colab_type": "code",
        "outputId": "c2016521-273f-4219-8f3c-cb75155650b9",
        "colab": {
          "base_uri": "https://localhost:8080/",
          "height": 354
        }
      },
      "source": [
        "param_test10 = {\n",
        "     'colsample_bylevel':[0.95,1],\n",
        "    'colsample_bynode':[0.95,1]\n",
        "    \n",
        "}\n",
        "gsearch10 = GridSearchCV(estimator =gsearch9.best_estimator_, \n",
        " param_grid = param_test10, scoring='r2',n_jobs=4,iid=False, cv=5)\n",
        "gsearch10.fit(x_train,y_train)"
      ],
      "execution_count": 0,
      "outputs": [
        {
          "output_type": "stream",
          "text": [
            "/usr/local/lib/python3.6/dist-packages/xgboost/core.py:587: FutureWarning: Series.base is deprecated and will be removed in a future version\n",
            "  if getattr(data, 'base', None) is not None and \\\n"
          ],
          "name": "stderr"
        },
        {
          "output_type": "execute_result",
          "data": {
            "text/plain": [
              "GridSearchCV(cv=5, error_score='raise-deprecating',\n",
              "             estimator=XGBRegressor(base_score=0.5, booster='gbtree',\n",
              "                                    colsample_bylevel=1, colsample_bynode=1,\n",
              "                                    colsample_bytree=0.75, gamma=1.1,\n",
              "                                    importance_type='gain', learning_rate=0.1,\n",
              "                                    max_delta_step=0, max_depth=5,\n",
              "                                    min_child_weight=4, missing=None,\n",
              "                                    n_estimators=483, n_jobs=1, nthread=4,\n",
              "                                    objective='reg:squarederror',\n",
              "                                    random_state=0, reg_alpha=1e-05,\n",
              "                                    reg_lambda=1, scale_pos_weight=1, seed=23,\n",
              "                                    silent=None, subsample=0.85, verbosity=1),\n",
              "             iid=False, n_jobs=4,\n",
              "             param_grid={'colsample_bylevel': [0.95, 1],\n",
              "                         'colsample_bynode': [0.95, 1]},\n",
              "             pre_dispatch='2*n_jobs', refit=True, return_train_score=False,\n",
              "             scoring='r2', verbose=0)"
            ]
          },
          "metadata": {
            "tags": []
          },
          "execution_count": 139
        }
      ]
    },
    {
      "cell_type": "code",
      "metadata": {
        "id": "5tQjPwkkMJN3",
        "colab_type": "code",
        "outputId": "7bba4c62-8eb4-4177-db60-a117856d159c",
        "colab": {
          "base_uri": "https://localhost:8080/",
          "height": 34
        }
      },
      "source": [
        "gsearch10.best_params_,gsearch10.best_score_"
      ],
      "execution_count": 0,
      "outputs": [
        {
          "output_type": "execute_result",
          "data": {
            "text/plain": [
              "({'colsample_bylevel': 1, 'colsample_bynode': 1}, 0.9413544033024553)"
            ]
          },
          "metadata": {
            "tags": []
          },
          "execution_count": 140
        }
      ]
    },
    {
      "cell_type": "code",
      "metadata": {
        "id": "dNoVZSIOPasG",
        "colab_type": "code",
        "colab": {}
      },
      "source": [
        "# Regression chart.\n",
        "def chart_regression(pred, y, sort=True):\n",
        "    t = pd.DataFrame({'pred': pred, 'y': y})\n",
        "    if sort:\n",
        "        t.sort_values(by=['y'], inplace=True)\n",
        "    plt.plot(t['y'].tolist(), label='expected')\n",
        "    plt.plot(t['pred'].tolist(), label='prediction')\n",
        "    plt.ylabel('output')\n",
        "    plt.legend()\n",
        "    plt.show()"
      ],
      "execution_count": 0,
      "outputs": []
    },
    {
      "cell_type": "code",
      "metadata": {
        "id": "J4ZJdeRfVDcx",
        "colab_type": "code",
        "colab": {}
      },
      "source": [
        "final_xgb = gsearch10.best_estimator_"
      ],
      "execution_count": 0,
      "outputs": []
    },
    {
      "cell_type": "code",
      "metadata": {
        "id": "pbn1IPC9XGT6",
        "colab_type": "code",
        "outputId": "2b5cf793-65f1-4d94-d396-553de0470ff6",
        "colab": {
          "base_uri": "https://localhost:8080/",
          "height": 176
        }
      },
      "source": [
        "final_xgb.fit(x_train,y_train)"
      ],
      "execution_count": 0,
      "outputs": [
        {
          "output_type": "stream",
          "text": [
            "/usr/local/lib/python3.6/dist-packages/xgboost/core.py:587: FutureWarning: Series.base is deprecated and will be removed in a future version\n",
            "  if getattr(data, 'base', None) is not None and \\\n"
          ],
          "name": "stderr"
        },
        {
          "output_type": "execute_result",
          "data": {
            "text/plain": [
              "XGBRegressor(base_score=0.5, booster='gbtree', colsample_bylevel=1,\n",
              "             colsample_bynode=1, colsample_bytree=0.75, gamma=1.1,\n",
              "             importance_type='gain', learning_rate=0.1, max_delta_step=0,\n",
              "             max_depth=5, min_child_weight=4, missing=None, n_estimators=483,\n",
              "             n_jobs=1, nthread=4, objective='reg:squarederror', random_state=0,\n",
              "             reg_alpha=1e-05, reg_lambda=1, scale_pos_weight=1, seed=23,\n",
              "             silent=None, subsample=0.85, verbosity=1)"
            ]
          },
          "metadata": {
            "tags": []
          },
          "execution_count": 163
        }
      ]
    },
    {
      "cell_type": "code",
      "metadata": {
        "id": "5zmOwk45U6Xd",
        "colab_type": "code",
        "colab": {}
      },
      "source": [
        "train_predictions=final_xgb.predict(x_train)"
      ],
      "execution_count": 0,
      "outputs": []
    },
    {
      "cell_type": "code",
      "metadata": {
        "id": "V1vOeTa0U-5V",
        "colab_type": "code",
        "outputId": "c24e1f84-227e-43f2-94ee-6b192b6030bd",
        "colab": {
          "base_uri": "https://localhost:8080/",
          "height": 505
        }
      },
      "source": [
        "chart_regression(train_predictions.flatten(),y_train)"
      ],
      "execution_count": 0,
      "outputs": [
        {
          "output_type": "display_data",
          "data": {
            "image/png": "[encoded data removed]",
            "text/plain": [
              "<Figure size 842.4x595.44 with 1 Axes>"
            ]
          },
          "metadata": {
            "tags": []
          }
        }
      ]
    },
    {
      "cell_type": "code",
      "metadata": {
        "id": "_jJZkbNqU-1T",
        "colab_type": "code",
        "outputId": "6ef88e4f-ebd9-4641-8bc2-b97515faed8b",
        "colab": {
          "base_uri": "https://localhost:8080/",
          "height": 34
        }
      },
      "source": [
        "from sklearn.externals import joblib\n",
        "from numpy import loadtxt\n",
        "joblib.dump(final_xgb, \"final_xgb.joblib.dat\")"
      ],
      "execution_count": 0,
      "outputs": [
        {
          "output_type": "execute_result",
          "data": {
            "text/plain": [
              "['final_xgb.joblib.dat']"
            ]
          },
          "metadata": {
            "tags": []
          },
          "execution_count": 166
        }
      ]
    },
    {
      "cell_type": "code",
      "metadata": {
        "id": "kjS14XdwU-xj",
        "colab_type": "code",
        "colab": {}
      },
      "source": [
        "test_predictions=final_xgb.predict(x_test)"
      ],
      "execution_count": 0,
      "outputs": []
    },
    {
      "cell_type": "code",
      "metadata": {
        "id": "K8yxxlzPU-uS",
        "colab_type": "code",
        "outputId": "a0f70d5b-6b9f-4f9f-a9c4-c4f8671dadb6",
        "colab": {
          "base_uri": "https://localhost:8080/",
          "height": 505
        }
      },
      "source": [
        "chart_regression(test_predictions.flatten(),y_test)"
      ],
      "execution_count": 0,
      "outputs": [
        {
          "output_type": "display_data",
          "data": {
            "image/png": "[encoded data removed]",
            "text/plain": [
              "<Figure size 842.4x595.44 with 1 Axes>"
            ]
          },
          "metadata": {
            "tags": []
          }
        }
      ]
    },
    {
      "cell_type": "code",
      "metadata": {
        "id": "9Hgp2lsFU-qi",
        "colab_type": "code",
        "outputId": "89d0fade-296b-49cf-8640-a9d38f425db4",
        "colab": {
          "base_uri": "https://localhost:8080/",
          "height": 34
        }
      },
      "source": [
        "from sklearn.metrics import r2_score\n",
        "print(\"R2 : {}\".format(r2_score(test_predictions,y_test)))"
      ],
      "execution_count": 0,
      "outputs": [
        {
          "output_type": "stream",
          "text": [
            "R2 : 0.9556366416579878\n"
          ],
          "name": "stdout"
        }
      ]
    },
    {
      "cell_type": "code",
      "metadata": {
        "id": "JFa3jLgJWouX",
        "colab_type": "code",
        "outputId": "96a5d61d-465c-4474-ef85-df1b3a7c6fb0",
        "colab": {
          "base_uri": "https://localhost:8080/",
          "height": 34
        }
      },
      "source": [
        "print(\"R2 : {}\".format(r2_score(train_predictions,y_train)))"
      ],
      "execution_count": 0,
      "outputs": [
        {
          "output_type": "stream",
          "text": [
            "R2 : 0.995090455183282\n"
          ],
          "name": "stdout"
        }
      ]
    },
    {
      "cell_type": "code",
      "metadata": {
        "id": "mfRSJEdpWzhF",
        "colab_type": "code",
        "colab": {}
      },
      "source": [
        ""
      ],
      "execution_count": 0,
      "outputs": []
    }
  ]
}