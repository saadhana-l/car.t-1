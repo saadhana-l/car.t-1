{
  "nbformat": 4,
  "nbformat_minor": 0,
  "metadata": {
    "colab": {
      "name": "Copy of used_car_prediction.ipynb",
      "provenance": [],
      "collapsed_sections": []
    },
    "kernelspec": {
      "name": "python3",
      "display_name": "Python 3"
    },
    "accelerator": "GPU"
  },
  "cells": [
    {
      "cell_type": "code",
      "metadata": {
        "id": "f8Kw-Teb-JIh",
        "colab_type": "code",
        "colab": {}
      },
      "source": [
        "import pandas as pd\n",
        "import matplotlib.pyplot as plt\n",
        "%matplotlib inline\n",
        "import seaborn as sns\n",
        "sns.set(rc={'figure.figsize':(11.7,8.27)})"
      ],
      "execution_count": 0,
      "outputs": []
    },
    {
      "cell_type": "code",
      "metadata": {
        "id": "50FAUMXd-cvD",
        "colab_type": "code",
        "outputId": "e70ceeef-e606-449f-a85d-308c029f80de",
        "colab": {
          "base_uri": "https://localhost:8080/",
          "height": 34
        }
      },
      "source": [
        "from google.colab import drive\n",
        "drive.mount('/content/drive/')"
      ],
      "execution_count": 4,
      "outputs": [
        {
          "output_type": "stream",
          "text": [
            "Drive already mounted at /content/drive/; to attempt to forcibly remount, call drive.mount(\"/content/drive/\", force_remount=True).\n"
          ],
          "name": "stdout"
        }
      ]
    },
    {
      "cell_type": "code",
      "metadata": {
        "id": "Yuy8KTjj_miC",
        "colab_type": "code",
        "outputId": "c74a0e8c-648f-4fce-f927-e9043d421dc5",
        "colab": {
          "base_uri": "https://localhost:8080/",
          "height": 34
        }
      },
      "source": [
        "cd /content/drive/My Drive/Colab Notebooks"
      ],
      "execution_count": 5,
      "outputs": [
        {
          "output_type": "stream",
          "text": [
            "/content/drive/My Drive/Colab Notebooks\n"
          ],
          "name": "stdout"
        }
      ]
    },
    {
      "cell_type": "code",
      "metadata": {
        "id": "aO8bjQh9AFzP",
        "colab_type": "code",
        "colab": {}
      },
      "source": [
        "train = pd.read_excel('Data_Train.xlsx')\n",
        "test = pd.read_excel('Data_Test.xlsx')\n"
      ],
      "execution_count": 0,
      "outputs": []
    },
    {
      "cell_type": "code",
      "metadata": {
        "id": "KRccD6xzAJZR",
        "colab_type": "code",
        "colab": {
          "base_uri": "https://localhost:8080/",
          "height": 197
        },
        "outputId": "2921ab24-a9d8-41fb-fdd1-bc8ff1645686"
      },
      "source": [
        "train.head()"
      ],
      "execution_count": 7,
      "outputs": [
        {
          "output_type": "execute_result",
          "data": {
            "text/html": [
              "<div>\n",
              "<style scoped>\n",
              "    .dataframe tbody tr th:only-of-type {\n",
              "        vertical-align: middle;\n",
              "    }\n",
              "\n",
              "    .dataframe tbody tr th {\n",
              "        vertical-align: top;\n",
              "    }\n",
              "\n",
              "    .dataframe thead th {\n",
              "        text-align: right;\n",
              "    }\n",
              "</style>\n",
              "<table border=\"1\" class=\"dataframe\">\n",
              "  <thead>\n",
              "    <tr style=\"text-align: right;\">\n",
              "      <th></th>\n",
              "      <th>Name</th>\n",
              "      <th>Location</th>\n",
              "      <th>Year</th>\n",
              "      <th>Kilometers_Driven</th>\n",
              "      <th>Fuel_Type</th>\n",
              "      <th>Transmission</th>\n",
              "      <th>Owner_Type</th>\n",
              "      <th>Mileage</th>\n",
              "      <th>Engine</th>\n",
              "      <th>Power</th>\n",
              "      <th>Seats</th>\n",
              "      <th>New_Price</th>\n",
              "      <th>Price</th>\n",
              "    </tr>\n",
              "  </thead>\n",
              "  <tbody>\n",
              "    <tr>\n",
              "      <th>0</th>\n",
              "      <td>Maruti Wagon R LXI CNG</td>\n",
              "      <td>Mumbai</td>\n",
              "      <td>2010</td>\n",
              "      <td>72000</td>\n",
              "      <td>CNG</td>\n",
              "      <td>Manual</td>\n",
              "      <td>First</td>\n",
              "      <td>26.6 km/kg</td>\n",
              "      <td>998 CC</td>\n",
              "      <td>58.16 bhp</td>\n",
              "      <td>5</td>\n",
              "      <td>NaN</td>\n",
              "      <td>1.75</td>\n",
              "    </tr>\n",
              "    <tr>\n",
              "      <th>1</th>\n",
              "      <td>Hyundai Creta 1.6 CRDi SX Option</td>\n",
              "      <td>Pune</td>\n",
              "      <td>2015</td>\n",
              "      <td>41000</td>\n",
              "      <td>Diesel</td>\n",
              "      <td>Manual</td>\n",
              "      <td>First</td>\n",
              "      <td>19.67 kmpl</td>\n",
              "      <td>1582 CC</td>\n",
              "      <td>126.2 bhp</td>\n",
              "      <td>5</td>\n",
              "      <td>NaN</td>\n",
              "      <td>12.50</td>\n",
              "    </tr>\n",
              "    <tr>\n",
              "      <th>2</th>\n",
              "      <td>Honda Jazz V</td>\n",
              "      <td>Chennai</td>\n",
              "      <td>2011</td>\n",
              "      <td>46000</td>\n",
              "      <td>Petrol</td>\n",
              "      <td>Manual</td>\n",
              "      <td>First</td>\n",
              "      <td>18.2 kmpl</td>\n",
              "      <td>1199 CC</td>\n",
              "      <td>88.7 bhp</td>\n",
              "      <td>5</td>\n",
              "      <td>8.61 Lakh</td>\n",
              "      <td>4.50</td>\n",
              "    </tr>\n",
              "    <tr>\n",
              "      <th>3</th>\n",
              "      <td>Maruti Ertiga VDI</td>\n",
              "      <td>Chennai</td>\n",
              "      <td>2012</td>\n",
              "      <td>87000</td>\n",
              "      <td>Diesel</td>\n",
              "      <td>Manual</td>\n",
              "      <td>First</td>\n",
              "      <td>20.77 kmpl</td>\n",
              "      <td>1248 CC</td>\n",
              "      <td>88.76 bhp</td>\n",
              "      <td>7</td>\n",
              "      <td>NaN</td>\n",
              "      <td>6.00</td>\n",
              "    </tr>\n",
              "    <tr>\n",
              "      <th>4</th>\n",
              "      <td>Audi A4 New 2.0 TDI Multitronic</td>\n",
              "      <td>Coimbatore</td>\n",
              "      <td>2013</td>\n",
              "      <td>40670</td>\n",
              "      <td>Diesel</td>\n",
              "      <td>Automatic</td>\n",
              "      <td>Second</td>\n",
              "      <td>15.2 kmpl</td>\n",
              "      <td>1968 CC</td>\n",
              "      <td>140.8 bhp</td>\n",
              "      <td>5</td>\n",
              "      <td>NaN</td>\n",
              "      <td>17.74</td>\n",
              "    </tr>\n",
              "  </tbody>\n",
              "</table>\n",
              "</div>"
            ],
            "text/plain": [
              "                               Name    Location  Year  ...  Seats  New_Price  Price\n",
              "0            Maruti Wagon R LXI CNG      Mumbai  2010  ...      5        NaN   1.75\n",
              "1  Hyundai Creta 1.6 CRDi SX Option        Pune  2015  ...      5        NaN  12.50\n",
              "2                      Honda Jazz V     Chennai  2011  ...      5  8.61 Lakh   4.50\n",
              "3                 Maruti Ertiga VDI     Chennai  2012  ...      7        NaN   6.00\n",
              "4   Audi A4 New 2.0 TDI Multitronic  Coimbatore  2013  ...      5        NaN  17.74\n",
              "\n",
              "[5 rows x 13 columns]"
            ]
          },
          "metadata": {
            "tags": []
          },
          "execution_count": 7
        }
      ]
    },
    {
      "cell_type": "code",
      "metadata": {
        "id": "sQ0YOiarAzR-",
        "colab_type": "code",
        "outputId": "a3db2c3a-ec6d-4b38-b155-e1b84622fea9",
        "colab": {
          "base_uri": "https://localhost:8080/",
          "height": 336
        }
      },
      "source": [
        "train.info()"
      ],
      "execution_count": 8,
      "outputs": [
        {
          "output_type": "stream",
          "text": [
            "<class 'pandas.core.frame.DataFrame'>\n",
            "RangeIndex: 6019 entries, 0 to 6018\n",
            "Data columns (total 13 columns):\n",
            "Name                 6019 non-null object\n",
            "Location             6019 non-null object\n",
            "Year                 6019 non-null int64\n",
            "Kilometers_Driven    6019 non-null int64\n",
            "Fuel_Type            6019 non-null object\n",
            "Transmission         6019 non-null object\n",
            "Owner_Type           6019 non-null object\n",
            "Mileage              6019 non-null object\n",
            "Engine               6019 non-null object\n",
            "Power                6019 non-null object\n",
            "Seats                6019 non-null int64\n",
            "New_Price            824 non-null object\n",
            "Price                6019 non-null float64\n",
            "dtypes: float64(1), int64(3), object(9)\n",
            "memory usage: 611.4+ KB\n"
          ],
          "name": "stdout"
        }
      ]
    },
    {
      "cell_type": "code",
      "metadata": {
        "id": "Pgx97RbSAwsM",
        "colab_type": "code",
        "colab": {
          "base_uri": "https://localhost:8080/",
          "height": 318
        },
        "outputId": "21fc895e-86fe-469e-9a3a-7abd523dcddb"
      },
      "source": [
        "test.info()"
      ],
      "execution_count": 9,
      "outputs": [
        {
          "output_type": "stream",
          "text": [
            "<class 'pandas.core.frame.DataFrame'>\n",
            "RangeIndex: 1234 entries, 0 to 1233\n",
            "Data columns (total 12 columns):\n",
            "Name                 1234 non-null object\n",
            "Location             1234 non-null object\n",
            "Year                 1234 non-null int64\n",
            "Kilometers_Driven    1234 non-null int64\n",
            "Fuel_Type            1234 non-null object\n",
            "Transmission         1234 non-null object\n",
            "Owner_Type           1234 non-null object\n",
            "Mileage              1234 non-null object\n",
            "Engine               1234 non-null object\n",
            "Power                1234 non-null object\n",
            "Seats                1234 non-null int64\n",
            "New_Price            182 non-null object\n",
            "dtypes: int64(3), object(9)\n",
            "memory usage: 115.8+ KB\n"
          ],
          "name": "stdout"
        }
      ]
    },
    {
      "cell_type": "code",
      "metadata": {
        "id": "y1E_s2WwA4pq",
        "colab_type": "code",
        "colab": {
          "base_uri": "https://localhost:8080/",
          "height": 287
        },
        "outputId": "ee21434d-6981-41ff-a1c5-f7ceff3773d0"
      },
      "source": [
        "train.describe()"
      ],
      "execution_count": 10,
      "outputs": [
        {
          "output_type": "execute_result",
          "data": {
            "text/html": [
              "<div>\n",
              "<style scoped>\n",
              "    .dataframe tbody tr th:only-of-type {\n",
              "        vertical-align: middle;\n",
              "    }\n",
              "\n",
              "    .dataframe tbody tr th {\n",
              "        vertical-align: top;\n",
              "    }\n",
              "\n",
              "    .dataframe thead th {\n",
              "        text-align: right;\n",
              "    }\n",
              "</style>\n",
              "<table border=\"1\" class=\"dataframe\">\n",
              "  <thead>\n",
              "    <tr style=\"text-align: right;\">\n",
              "      <th></th>\n",
              "      <th>Year</th>\n",
              "      <th>Kilometers_Driven</th>\n",
              "      <th>Seats</th>\n",
              "      <th>Price</th>\n",
              "    </tr>\n",
              "  </thead>\n",
              "  <tbody>\n",
              "    <tr>\n",
              "      <th>count</th>\n",
              "      <td>6019.000000</td>\n",
              "      <td>6.019000e+03</td>\n",
              "      <td>6019.000000</td>\n",
              "      <td>6019.000000</td>\n",
              "    </tr>\n",
              "    <tr>\n",
              "      <th>mean</th>\n",
              "      <td>2013.358199</td>\n",
              "      <td>5.873838e+04</td>\n",
              "      <td>5.277122</td>\n",
              "      <td>9.479468</td>\n",
              "    </tr>\n",
              "    <tr>\n",
              "      <th>std</th>\n",
              "      <td>3.269742</td>\n",
              "      <td>9.126884e+04</td>\n",
              "      <td>0.806644</td>\n",
              "      <td>11.187917</td>\n",
              "    </tr>\n",
              "    <tr>\n",
              "      <th>min</th>\n",
              "      <td>1998.000000</td>\n",
              "      <td>1.710000e+02</td>\n",
              "      <td>0.000000</td>\n",
              "      <td>0.440000</td>\n",
              "    </tr>\n",
              "    <tr>\n",
              "      <th>25%</th>\n",
              "      <td>2011.000000</td>\n",
              "      <td>3.400000e+04</td>\n",
              "      <td>5.000000</td>\n",
              "      <td>3.500000</td>\n",
              "    </tr>\n",
              "    <tr>\n",
              "      <th>50%</th>\n",
              "      <td>2014.000000</td>\n",
              "      <td>5.300000e+04</td>\n",
              "      <td>5.000000</td>\n",
              "      <td>5.640000</td>\n",
              "    </tr>\n",
              "    <tr>\n",
              "      <th>75%</th>\n",
              "      <td>2016.000000</td>\n",
              "      <td>7.300000e+04</td>\n",
              "      <td>5.000000</td>\n",
              "      <td>9.950000</td>\n",
              "    </tr>\n",
              "    <tr>\n",
              "      <th>max</th>\n",
              "      <td>2019.000000</td>\n",
              "      <td>6.500000e+06</td>\n",
              "      <td>10.000000</td>\n",
              "      <td>160.000000</td>\n",
              "    </tr>\n",
              "  </tbody>\n",
              "</table>\n",
              "</div>"
            ],
            "text/plain": [
              "              Year  Kilometers_Driven        Seats        Price\n",
              "count  6019.000000       6.019000e+03  6019.000000  6019.000000\n",
              "mean   2013.358199       5.873838e+04     5.277122     9.479468\n",
              "std       3.269742       9.126884e+04     0.806644    11.187917\n",
              "min    1998.000000       1.710000e+02     0.000000     0.440000\n",
              "25%    2011.000000       3.400000e+04     5.000000     3.500000\n",
              "50%    2014.000000       5.300000e+04     5.000000     5.640000\n",
              "75%    2016.000000       7.300000e+04     5.000000     9.950000\n",
              "max    2019.000000       6.500000e+06    10.000000   160.000000"
            ]
          },
          "metadata": {
            "tags": []
          },
          "execution_count": 10
        }
      ]
    },
    {
      "cell_type": "code",
      "metadata": {
        "id": "gDV_KfffA3SN",
        "colab_type": "code",
        "colab": {
          "base_uri": "https://localhost:8080/",
          "height": 287
        },
        "outputId": "4b86e5bb-0c46-4ae4-d7e0-3f39a0a1f538"
      },
      "source": [
        "test.describe()"
      ],
      "execution_count": 11,
      "outputs": [
        {
          "output_type": "execute_result",
          "data": {
            "text/html": [
              "<div>\n",
              "<style scoped>\n",
              "    .dataframe tbody tr th:only-of-type {\n",
              "        vertical-align: middle;\n",
              "    }\n",
              "\n",
              "    .dataframe tbody tr th {\n",
              "        vertical-align: top;\n",
              "    }\n",
              "\n",
              "    .dataframe thead th {\n",
              "        text-align: right;\n",
              "    }\n",
              "</style>\n",
              "<table border=\"1\" class=\"dataframe\">\n",
              "  <thead>\n",
              "    <tr style=\"text-align: right;\">\n",
              "      <th></th>\n",
              "      <th>Year</th>\n",
              "      <th>Kilometers_Driven</th>\n",
              "      <th>Seats</th>\n",
              "    </tr>\n",
              "  </thead>\n",
              "  <tbody>\n",
              "    <tr>\n",
              "      <th>count</th>\n",
              "      <td>1234.000000</td>\n",
              "      <td>1234.000000</td>\n",
              "      <td>1234.000000</td>\n",
              "    </tr>\n",
              "    <tr>\n",
              "      <th>mean</th>\n",
              "      <td>2013.400324</td>\n",
              "      <td>58507.288493</td>\n",
              "      <td>5.285251</td>\n",
              "    </tr>\n",
              "    <tr>\n",
              "      <th>std</th>\n",
              "      <td>3.179700</td>\n",
              "      <td>35598.702098</td>\n",
              "      <td>0.829109</td>\n",
              "    </tr>\n",
              "    <tr>\n",
              "      <th>min</th>\n",
              "      <td>1996.000000</td>\n",
              "      <td>1000.000000</td>\n",
              "      <td>2.000000</td>\n",
              "    </tr>\n",
              "    <tr>\n",
              "      <th>25%</th>\n",
              "      <td>2011.000000</td>\n",
              "      <td>34000.000000</td>\n",
              "      <td>5.000000</td>\n",
              "    </tr>\n",
              "    <tr>\n",
              "      <th>50%</th>\n",
              "      <td>2014.000000</td>\n",
              "      <td>54572.500000</td>\n",
              "      <td>5.000000</td>\n",
              "    </tr>\n",
              "    <tr>\n",
              "      <th>75%</th>\n",
              "      <td>2016.000000</td>\n",
              "      <td>75000.000000</td>\n",
              "      <td>5.000000</td>\n",
              "    </tr>\n",
              "    <tr>\n",
              "      <th>max</th>\n",
              "      <td>2019.000000</td>\n",
              "      <td>350000.000000</td>\n",
              "      <td>10.000000</td>\n",
              "    </tr>\n",
              "  </tbody>\n",
              "</table>\n",
              "</div>"
            ],
            "text/plain": [
              "              Year  Kilometers_Driven        Seats\n",
              "count  1234.000000        1234.000000  1234.000000\n",
              "mean   2013.400324       58507.288493     5.285251\n",
              "std       3.179700       35598.702098     0.829109\n",
              "min    1996.000000        1000.000000     2.000000\n",
              "25%    2011.000000       34000.000000     5.000000\n",
              "50%    2014.000000       54572.500000     5.000000\n",
              "75%    2016.000000       75000.000000     5.000000\n",
              "max    2019.000000      350000.000000    10.000000"
            ]
          },
          "metadata": {
            "tags": []
          },
          "execution_count": 11
        }
      ]
    },
    {
      "cell_type": "code",
      "metadata": {
        "id": "Pp1N-4UuBL7j",
        "colab_type": "code",
        "colab": {
          "base_uri": "https://localhost:8080/",
          "height": 265
        },
        "outputId": "e22bbe1d-93bf-40be-af0e-8042f101b673"
      },
      "source": [
        "train.nunique()"
      ],
      "execution_count": 12,
      "outputs": [
        {
          "output_type": "execute_result",
          "data": {
            "text/plain": [
              "Name                 1876\n",
              "Location               11\n",
              "Year                   22\n",
              "Kilometers_Driven    3093\n",
              "Fuel_Type               5\n",
              "Transmission            2\n",
              "Owner_Type              4\n",
              "Mileage               447\n",
              "Engine                147\n",
              "Power                 382\n",
              "Seats                   9\n",
              "New_Price             540\n",
              "Price                1373\n",
              "dtype: int64"
            ]
          },
          "metadata": {
            "tags": []
          },
          "execution_count": 12
        }
      ]
    },
    {
      "cell_type": "code",
      "metadata": {
        "id": "YkYnlbEZA5wH",
        "colab_type": "code",
        "colab": {
          "base_uri": "https://localhost:8080/",
          "height": 247
        },
        "outputId": "646a9cc6-50e6-4ec3-e74b-10d01b66b962"
      },
      "source": [
        "test.nunique()"
      ],
      "execution_count": 13,
      "outputs": [
        {
          "output_type": "execute_result",
          "data": {
            "text/plain": [
              "Name                 768\n",
              "Location              11\n",
              "Year                  20\n",
              "Kilometers_Driven    755\n",
              "Fuel_Type              4\n",
              "Transmission           2\n",
              "Owner_Type             4\n",
              "Mileage              300\n",
              "Engine               104\n",
              "Power                252\n",
              "Seats                  8\n",
              "New_Price            162\n",
              "dtype: int64"
            ]
          },
          "metadata": {
            "tags": []
          },
          "execution_count": 13
        }
      ]
    },
    {
      "cell_type": "code",
      "metadata": {
        "id": "pJSXsE5GBvmk",
        "colab_type": "code",
        "outputId": "4154c3d4-9754-48df-b567-5ff7d7f3e4b7",
        "colab": {
          "base_uri": "https://localhost:8080/",
          "height": 34
        }
      },
      "source": [
        "train.Owner_Type.unique()"
      ],
      "execution_count": 14,
      "outputs": [
        {
          "output_type": "execute_result",
          "data": {
            "text/plain": [
              "array(['First', 'Second', 'Fourth & Above', 'Third'], dtype=object)"
            ]
          },
          "metadata": {
            "tags": []
          },
          "execution_count": 14
        }
      ]
    },
    {
      "cell_type": "code",
      "metadata": {
        "id": "2oNE8kTFBI7e",
        "colab_type": "code",
        "outputId": "f9504c7b-96fe-4758-bdee-9e5317c472ea",
        "colab": {
          "base_uri": "https://localhost:8080/",
          "height": 34
        }
      },
      "source": [
        "test.Owner_Type.unique()"
      ],
      "execution_count": 15,
      "outputs": [
        {
          "output_type": "execute_result",
          "data": {
            "text/plain": [
              "array(['First', 'Second', 'Third', 'Fourth & Above'], dtype=object)"
            ]
          },
          "metadata": {
            "tags": []
          },
          "execution_count": 15
        }
      ]
    },
    {
      "cell_type": "code",
      "metadata": {
        "id": "6Ghu3sLUDGiC",
        "colab_type": "code",
        "colab": {}
      },
      "source": [
        "def owner_type_enc(type):\n",
        "  if type=='First':\n",
        "    return 1\n",
        "  elif type=='Second':\n",
        "    return 2\n",
        "  elif type=='Third':\n",
        "    return 3\n",
        "  else:\n",
        "    return 4\n",
        "train['Owner_Type']=train['Owner_Type'].apply(owner_type_enc)\n",
        "test['Owner_Type']=test['Owner_Type'].apply(owner_type_enc)"
      ],
      "execution_count": 0,
      "outputs": []
    },
    {
      "cell_type": "code",
      "metadata": {
        "id": "j7X1T2OXFqDq",
        "colab_type": "code",
        "outputId": "cd636310-de08-42a4-d807-7e8ff7fbbbf4",
        "colab": {
          "base_uri": "https://localhost:8080/",
          "height": 34
        }
      },
      "source": [
        "train.Fuel_Type.unique()"
      ],
      "execution_count": 17,
      "outputs": [
        {
          "output_type": "execute_result",
          "data": {
            "text/plain": [
              "array(['CNG', 'Diesel', 'Petrol', 'LPG', 'Electric'], dtype=object)"
            ]
          },
          "metadata": {
            "tags": []
          },
          "execution_count": 17
        }
      ]
    },
    {
      "cell_type": "code",
      "metadata": {
        "id": "2wGsQTjCBTYS",
        "colab_type": "code",
        "outputId": "a2e5f867-596f-4923-b877-e143c59d5122",
        "colab": {
          "base_uri": "https://localhost:8080/",
          "height": 34
        }
      },
      "source": [
        "test.Fuel_Type.unique()"
      ],
      "execution_count": 18,
      "outputs": [
        {
          "output_type": "execute_result",
          "data": {
            "text/plain": [
              "array(['CNG', 'Petrol', 'Diesel', 'LPG'], dtype=object)"
            ]
          },
          "metadata": {
            "tags": []
          },
          "execution_count": 18
        }
      ]
    },
    {
      "cell_type": "code",
      "metadata": {
        "id": "Krj-TsMDEi-j",
        "colab_type": "code",
        "colab": {
          "base_uri": "https://localhost:8080/",
          "height": 197
        },
        "outputId": "15646569-bdc2-47f9-8f97-4861247a99b2"
      },
      "source": [
        "def transmission_enc(type):\n",
        "  if type=='Manual':\n",
        "    return 1\n",
        "  else:\n",
        "    return 0\n",
        "train['Transmission']=train['Transmission'].apply(transmission_enc)\n",
        "test['Transmission']=test['Transmission'].apply(transmission_enc)\n",
        "train.head()\n",
        "  "
      ],
      "execution_count": 19,
      "outputs": [
        {
          "output_type": "execute_result",
          "data": {
            "text/html": [
              "<div>\n",
              "<style scoped>\n",
              "    .dataframe tbody tr th:only-of-type {\n",
              "        vertical-align: middle;\n",
              "    }\n",
              "\n",
              "    .dataframe tbody tr th {\n",
              "        vertical-align: top;\n",
              "    }\n",
              "\n",
              "    .dataframe thead th {\n",
              "        text-align: right;\n",
              "    }\n",
              "</style>\n",
              "<table border=\"1\" class=\"dataframe\">\n",
              "  <thead>\n",
              "    <tr style=\"text-align: right;\">\n",
              "      <th></th>\n",
              "      <th>Name</th>\n",
              "      <th>Location</th>\n",
              "      <th>Year</th>\n",
              "      <th>Kilometers_Driven</th>\n",
              "      <th>Fuel_Type</th>\n",
              "      <th>Transmission</th>\n",
              "      <th>Owner_Type</th>\n",
              "      <th>Mileage</th>\n",
              "      <th>Engine</th>\n",
              "      <th>Power</th>\n",
              "      <th>Seats</th>\n",
              "      <th>New_Price</th>\n",
              "      <th>Price</th>\n",
              "    </tr>\n",
              "  </thead>\n",
              "  <tbody>\n",
              "    <tr>\n",
              "      <th>0</th>\n",
              "      <td>Maruti Wagon R LXI CNG</td>\n",
              "      <td>Mumbai</td>\n",
              "      <td>2010</td>\n",
              "      <td>72000</td>\n",
              "      <td>CNG</td>\n",
              "      <td>1</td>\n",
              "      <td>1</td>\n",
              "      <td>26.6 km/kg</td>\n",
              "      <td>998 CC</td>\n",
              "      <td>58.16 bhp</td>\n",
              "      <td>5</td>\n",
              "      <td>NaN</td>\n",
              "      <td>1.75</td>\n",
              "    </tr>\n",
              "    <tr>\n",
              "      <th>1</th>\n",
              "      <td>Hyundai Creta 1.6 CRDi SX Option</td>\n",
              "      <td>Pune</td>\n",
              "      <td>2015</td>\n",
              "      <td>41000</td>\n",
              "      <td>Diesel</td>\n",
              "      <td>1</td>\n",
              "      <td>1</td>\n",
              "      <td>19.67 kmpl</td>\n",
              "      <td>1582 CC</td>\n",
              "      <td>126.2 bhp</td>\n",
              "      <td>5</td>\n",
              "      <td>NaN</td>\n",
              "      <td>12.50</td>\n",
              "    </tr>\n",
              "    <tr>\n",
              "      <th>2</th>\n",
              "      <td>Honda Jazz V</td>\n",
              "      <td>Chennai</td>\n",
              "      <td>2011</td>\n",
              "      <td>46000</td>\n",
              "      <td>Petrol</td>\n",
              "      <td>1</td>\n",
              "      <td>1</td>\n",
              "      <td>18.2 kmpl</td>\n",
              "      <td>1199 CC</td>\n",
              "      <td>88.7 bhp</td>\n",
              "      <td>5</td>\n",
              "      <td>8.61 Lakh</td>\n",
              "      <td>4.50</td>\n",
              "    </tr>\n",
              "    <tr>\n",
              "      <th>3</th>\n",
              "      <td>Maruti Ertiga VDI</td>\n",
              "      <td>Chennai</td>\n",
              "      <td>2012</td>\n",
              "      <td>87000</td>\n",
              "      <td>Diesel</td>\n",
              "      <td>1</td>\n",
              "      <td>1</td>\n",
              "      <td>20.77 kmpl</td>\n",
              "      <td>1248 CC</td>\n",
              "      <td>88.76 bhp</td>\n",
              "      <td>7</td>\n",
              "      <td>NaN</td>\n",
              "      <td>6.00</td>\n",
              "    </tr>\n",
              "    <tr>\n",
              "      <th>4</th>\n",
              "      <td>Audi A4 New 2.0 TDI Multitronic</td>\n",
              "      <td>Coimbatore</td>\n",
              "      <td>2013</td>\n",
              "      <td>40670</td>\n",
              "      <td>Diesel</td>\n",
              "      <td>0</td>\n",
              "      <td>2</td>\n",
              "      <td>15.2 kmpl</td>\n",
              "      <td>1968 CC</td>\n",
              "      <td>140.8 bhp</td>\n",
              "      <td>5</td>\n",
              "      <td>NaN</td>\n",
              "      <td>17.74</td>\n",
              "    </tr>\n",
              "  </tbody>\n",
              "</table>\n",
              "</div>"
            ],
            "text/plain": [
              "                               Name    Location  Year  ...  Seats  New_Price  Price\n",
              "0            Maruti Wagon R LXI CNG      Mumbai  2010  ...      5        NaN   1.75\n",
              "1  Hyundai Creta 1.6 CRDi SX Option        Pune  2015  ...      5        NaN  12.50\n",
              "2                      Honda Jazz V     Chennai  2011  ...      5  8.61 Lakh   4.50\n",
              "3                 Maruti Ertiga VDI     Chennai  2012  ...      7        NaN   6.00\n",
              "4   Audi A4 New 2.0 TDI Multitronic  Coimbatore  2013  ...      5        NaN  17.74\n",
              "\n",
              "[5 rows x 13 columns]"
            ]
          },
          "metadata": {
            "tags": []
          },
          "execution_count": 19
        }
      ]
    },
    {
      "cell_type": "code",
      "metadata": {
        "id": "Erjw554gBjyB",
        "colab_type": "code",
        "colab": {
          "base_uri": "https://localhost:8080/",
          "height": 197
        },
        "outputId": "b9bf205d-d83e-46fb-e2f9-52b7e71e35ff"
      },
      "source": [
        "test.head()"
      ],
      "execution_count": 20,
      "outputs": [
        {
          "output_type": "execute_result",
          "data": {
            "text/html": [
              "<div>\n",
              "<style scoped>\n",
              "    .dataframe tbody tr th:only-of-type {\n",
              "        vertical-align: middle;\n",
              "    }\n",
              "\n",
              "    .dataframe tbody tr th {\n",
              "        vertical-align: top;\n",
              "    }\n",
              "\n",
              "    .dataframe thead th {\n",
              "        text-align: right;\n",
              "    }\n",
              "</style>\n",
              "<table border=\"1\" class=\"dataframe\">\n",
              "  <thead>\n",
              "    <tr style=\"text-align: right;\">\n",
              "      <th></th>\n",
              "      <th>Name</th>\n",
              "      <th>Location</th>\n",
              "      <th>Year</th>\n",
              "      <th>Kilometers_Driven</th>\n",
              "      <th>Fuel_Type</th>\n",
              "      <th>Transmission</th>\n",
              "      <th>Owner_Type</th>\n",
              "      <th>Mileage</th>\n",
              "      <th>Engine</th>\n",
              "      <th>Power</th>\n",
              "      <th>Seats</th>\n",
              "      <th>New_Price</th>\n",
              "    </tr>\n",
              "  </thead>\n",
              "  <tbody>\n",
              "    <tr>\n",
              "      <th>0</th>\n",
              "      <td>Maruti Alto K10 LXI CNG</td>\n",
              "      <td>Delhi</td>\n",
              "      <td>2014</td>\n",
              "      <td>40929</td>\n",
              "      <td>CNG</td>\n",
              "      <td>1</td>\n",
              "      <td>1</td>\n",
              "      <td>32.26 km/kg</td>\n",
              "      <td>998 CC</td>\n",
              "      <td>58.2 bhp</td>\n",
              "      <td>4</td>\n",
              "      <td>NaN</td>\n",
              "    </tr>\n",
              "    <tr>\n",
              "      <th>1</th>\n",
              "      <td>Maruti Alto 800 2016-2019 LXI</td>\n",
              "      <td>Coimbatore</td>\n",
              "      <td>2013</td>\n",
              "      <td>54493</td>\n",
              "      <td>Petrol</td>\n",
              "      <td>1</td>\n",
              "      <td>2</td>\n",
              "      <td>24.7 kmpl</td>\n",
              "      <td>796 CC</td>\n",
              "      <td>47.3 bhp</td>\n",
              "      <td>5</td>\n",
              "      <td>NaN</td>\n",
              "    </tr>\n",
              "    <tr>\n",
              "      <th>2</th>\n",
              "      <td>Toyota Innova Crysta Touring Sport 2.4 MT</td>\n",
              "      <td>Mumbai</td>\n",
              "      <td>2017</td>\n",
              "      <td>34000</td>\n",
              "      <td>Diesel</td>\n",
              "      <td>1</td>\n",
              "      <td>1</td>\n",
              "      <td>13.68 kmpl</td>\n",
              "      <td>2393 CC</td>\n",
              "      <td>147.8 bhp</td>\n",
              "      <td>7</td>\n",
              "      <td>25.27 Lakh</td>\n",
              "    </tr>\n",
              "    <tr>\n",
              "      <th>3</th>\n",
              "      <td>Toyota Etios Liva GD</td>\n",
              "      <td>Hyderabad</td>\n",
              "      <td>2012</td>\n",
              "      <td>139000</td>\n",
              "      <td>Diesel</td>\n",
              "      <td>1</td>\n",
              "      <td>1</td>\n",
              "      <td>23.59 kmpl</td>\n",
              "      <td>1364 CC</td>\n",
              "      <td>67.04 bhp</td>\n",
              "      <td>5</td>\n",
              "      <td>NaN</td>\n",
              "    </tr>\n",
              "    <tr>\n",
              "      <th>4</th>\n",
              "      <td>Hyundai i20 Magna</td>\n",
              "      <td>Mumbai</td>\n",
              "      <td>2014</td>\n",
              "      <td>29000</td>\n",
              "      <td>Petrol</td>\n",
              "      <td>1</td>\n",
              "      <td>1</td>\n",
              "      <td>18.5 kmpl</td>\n",
              "      <td>1197 CC</td>\n",
              "      <td>82.85 bhp</td>\n",
              "      <td>5</td>\n",
              "      <td>NaN</td>\n",
              "    </tr>\n",
              "  </tbody>\n",
              "</table>\n",
              "</div>"
            ],
            "text/plain": [
              "                                        Name    Location  ...  Seats   New_Price\n",
              "0                    Maruti Alto K10 LXI CNG       Delhi  ...      4         NaN\n",
              "1              Maruti Alto 800 2016-2019 LXI  Coimbatore  ...      5         NaN\n",
              "2  Toyota Innova Crysta Touring Sport 2.4 MT      Mumbai  ...      7  25.27 Lakh\n",
              "3                       Toyota Etios Liva GD   Hyderabad  ...      5         NaN\n",
              "4                          Hyundai i20 Magna      Mumbai  ...      5         NaN\n",
              "\n",
              "[5 rows x 12 columns]"
            ]
          },
          "metadata": {
            "tags": []
          },
          "execution_count": 20
        }
      ]
    },
    {
      "cell_type": "code",
      "metadata": {
        "id": "wNhfExiuUZTY",
        "colab_type": "code",
        "outputId": "e57b4cf7-9585-4ac9-effb-9dddc3106bf8",
        "colab": {
          "base_uri": "https://localhost:8080/",
          "height": 70
        }
      },
      "source": [
        "train.Location.unique()"
      ],
      "execution_count": 21,
      "outputs": [
        {
          "output_type": "execute_result",
          "data": {
            "text/plain": [
              "array(['Mumbai', 'Pune', 'Chennai', 'Coimbatore', 'Hyderabad', 'Jaipur',\n",
              "       'Kochi', 'Kolkata', 'Delhi', 'Bangalore', 'Ahmedabad'],\n",
              "      dtype=object)"
            ]
          },
          "metadata": {
            "tags": []
          },
          "execution_count": 21
        }
      ]
    },
    {
      "cell_type": "code",
      "metadata": {
        "id": "BhSApfNrUcNF",
        "colab_type": "code",
        "outputId": "04f8f78f-88e7-4a59-8dc2-2f8dbb6cb92e",
        "colab": {
          "base_uri": "https://localhost:8080/",
          "height": 70
        }
      },
      "source": [
        "test.Location.unique()"
      ],
      "execution_count": 22,
      "outputs": [
        {
          "output_type": "execute_result",
          "data": {
            "text/plain": [
              "array(['Delhi', 'Coimbatore', 'Mumbai', 'Hyderabad', 'Pune', 'Jaipur',\n",
              "       'Chennai', 'Kochi', 'Bangalore', 'Kolkata', 'Ahmedabad'],\n",
              "      dtype=object)"
            ]
          },
          "metadata": {
            "tags": []
          },
          "execution_count": 22
        }
      ]
    },
    {
      "cell_type": "code",
      "metadata": {
        "id": "LST54BGyUmEn",
        "colab_type": "code",
        "outputId": "6934517e-1776-428f-ccf7-47ba716fe6dd",
        "colab": {
          "base_uri": "https://localhost:8080/",
          "height": 597
        }
      },
      "source": [
        "train.groupby(\"Location\").Price.mean().sort_values(ascending=False).plot.bar()"
      ],
      "execution_count": 23,
      "outputs": [
        {
          "output_type": "execute_result",
          "data": {
            "text/plain": [
              "<matplotlib.axes._subplots.AxesSubplot at 0x7f6130bd1320>"
            ]
          },
          "metadata": {
            "tags": []
          },
          "execution_count": 23
        },
        {
          "output_type": "display_data",
          "data": {
            "image/png": "[encoded data removed]",
            "text/plain": [
              "<Figure size 842.4x595.44 with 1 Axes>"
            ]
          },
          "metadata": {
            "tags": []
          }
        }
      ]
    },
    {
      "cell_type": "code",
      "metadata": {
        "id": "NZkbY7tHUtrB",
        "colab_type": "code",
        "colab": {}
      },
      "source": [
        "location_rank = { 'Mumbai':6, 'Pune':9, 'Chennai':8, 'Coimbatore':1, 'Hyderabad':4, 'Jaipur':10,\n",
        "       'Kochi':3, 'Kolkata':11, 'Delhi':5, 'Bangalore':2, 'Ahmedabad':7\n",
        "    \n",
        "}"
      ],
      "execution_count": 0,
      "outputs": []
    },
    {
      "cell_type": "code",
      "metadata": {
        "id": "LOG48LdSVLQB",
        "colab_type": "code",
        "colab": {
          "base_uri": "https://localhost:8080/",
          "height": 197
        },
        "outputId": "06ab03d3-b545-4cea-b4cc-300621d7823f"
      },
      "source": [
        "def location_enc(loc):\n",
        "  if loc in location_rank:\n",
        "     return location_rank[loc]\n",
        "train['Location']=train['Location'].apply(location_enc)\n",
        "test['Location']=test['Location'].apply(location_enc)\n",
        "\n",
        "test.head()"
      ],
      "execution_count": 25,
      "outputs": [
        {
          "output_type": "execute_result",
          "data": {
            "text/html": [
              "<div>\n",
              "<style scoped>\n",
              "    .dataframe tbody tr th:only-of-type {\n",
              "        vertical-align: middle;\n",
              "    }\n",
              "\n",
              "    .dataframe tbody tr th {\n",
              "        vertical-align: top;\n",
              "    }\n",
              "\n",
              "    .dataframe thead th {\n",
              "        text-align: right;\n",
              "    }\n",
              "</style>\n",
              "<table border=\"1\" class=\"dataframe\">\n",
              "  <thead>\n",
              "    <tr style=\"text-align: right;\">\n",
              "      <th></th>\n",
              "      <th>Name</th>\n",
              "      <th>Location</th>\n",
              "      <th>Year</th>\n",
              "      <th>Kilometers_Driven</th>\n",
              "      <th>Fuel_Type</th>\n",
              "      <th>Transmission</th>\n",
              "      <th>Owner_Type</th>\n",
              "      <th>Mileage</th>\n",
              "      <th>Engine</th>\n",
              "      <th>Power</th>\n",
              "      <th>Seats</th>\n",
              "      <th>New_Price</th>\n",
              "    </tr>\n",
              "  </thead>\n",
              "  <tbody>\n",
              "    <tr>\n",
              "      <th>0</th>\n",
              "      <td>Maruti Alto K10 LXI CNG</td>\n",
              "      <td>5</td>\n",
              "      <td>2014</td>\n",
              "      <td>40929</td>\n",
              "      <td>CNG</td>\n",
              "      <td>1</td>\n",
              "      <td>1</td>\n",
              "      <td>32.26 km/kg</td>\n",
              "      <td>998 CC</td>\n",
              "      <td>58.2 bhp</td>\n",
              "      <td>4</td>\n",
              "      <td>NaN</td>\n",
              "    </tr>\n",
              "    <tr>\n",
              "      <th>1</th>\n",
              "      <td>Maruti Alto 800 2016-2019 LXI</td>\n",
              "      <td>1</td>\n",
              "      <td>2013</td>\n",
              "      <td>54493</td>\n",
              "      <td>Petrol</td>\n",
              "      <td>1</td>\n",
              "      <td>2</td>\n",
              "      <td>24.7 kmpl</td>\n",
              "      <td>796 CC</td>\n",
              "      <td>47.3 bhp</td>\n",
              "      <td>5</td>\n",
              "      <td>NaN</td>\n",
              "    </tr>\n",
              "    <tr>\n",
              "      <th>2</th>\n",
              "      <td>Toyota Innova Crysta Touring Sport 2.4 MT</td>\n",
              "      <td>6</td>\n",
              "      <td>2017</td>\n",
              "      <td>34000</td>\n",
              "      <td>Diesel</td>\n",
              "      <td>1</td>\n",
              "      <td>1</td>\n",
              "      <td>13.68 kmpl</td>\n",
              "      <td>2393 CC</td>\n",
              "      <td>147.8 bhp</td>\n",
              "      <td>7</td>\n",
              "      <td>25.27 Lakh</td>\n",
              "    </tr>\n",
              "    <tr>\n",
              "      <th>3</th>\n",
              "      <td>Toyota Etios Liva GD</td>\n",
              "      <td>4</td>\n",
              "      <td>2012</td>\n",
              "      <td>139000</td>\n",
              "      <td>Diesel</td>\n",
              "      <td>1</td>\n",
              "      <td>1</td>\n",
              "      <td>23.59 kmpl</td>\n",
              "      <td>1364 CC</td>\n",
              "      <td>67.04 bhp</td>\n",
              "      <td>5</td>\n",
              "      <td>NaN</td>\n",
              "    </tr>\n",
              "    <tr>\n",
              "      <th>4</th>\n",
              "      <td>Hyundai i20 Magna</td>\n",
              "      <td>6</td>\n",
              "      <td>2014</td>\n",
              "      <td>29000</td>\n",
              "      <td>Petrol</td>\n",
              "      <td>1</td>\n",
              "      <td>1</td>\n",
              "      <td>18.5 kmpl</td>\n",
              "      <td>1197 CC</td>\n",
              "      <td>82.85 bhp</td>\n",
              "      <td>5</td>\n",
              "      <td>NaN</td>\n",
              "    </tr>\n",
              "  </tbody>\n",
              "</table>\n",
              "</div>"
            ],
            "text/plain": [
              "                                        Name  Location  ...  Seats   New_Price\n",
              "0                    Maruti Alto K10 LXI CNG         5  ...      4         NaN\n",
              "1              Maruti Alto 800 2016-2019 LXI         1  ...      5         NaN\n",
              "2  Toyota Innova Crysta Touring Sport 2.4 MT         6  ...      7  25.27 Lakh\n",
              "3                       Toyota Etios Liva GD         4  ...      5         NaN\n",
              "4                          Hyundai i20 Magna         6  ...      5         NaN\n",
              "\n",
              "[5 rows x 12 columns]"
            ]
          },
          "metadata": {
            "tags": []
          },
          "execution_count": 25
        }
      ]
    },
    {
      "cell_type": "code",
      "metadata": {
        "id": "MuatQGB0CGbP",
        "colab_type": "code",
        "outputId": "0abe8fda-97e4-42ed-a42d-09467bc099a5",
        "colab": {
          "base_uri": "https://localhost:8080/",
          "height": 615
        }
      },
      "source": [
        "sns.heatmap(train.corr())"
      ],
      "execution_count": 26,
      "outputs": [
        {
          "output_type": "execute_result",
          "data": {
            "text/plain": [
              "<matplotlib.axes._subplots.AxesSubplot at 0x7f612e2db748>"
            ]
          },
          "metadata": {
            "tags": []
          },
          "execution_count": 26
        },
        {
          "output_type": "display_data",
          "data": {
            "image/png": "[encoded data removed]",
            "text/plain": [
              "<Figure size 842.4x595.44 with 2 Axes>"
            ]
          },
          "metadata": {
            "tags": []
          }
        }
      ]
    },
    {
      "cell_type": "code",
      "metadata": {
        "id": "nYABNpHQCdta",
        "colab_type": "code",
        "colab": {
          "base_uri": "https://localhost:8080/",
          "height": 197
        },
        "outputId": "7ef591cf-a95e-4fec-bb3c-49a0d8919a19"
      },
      "source": [
        "def Brand_ext(Name):\n",
        "  if \"Land\" not in Name.split(maxsplit=1)[0]:\n",
        "    return Name.split(maxsplit=1)[0]\n",
        "  else:\n",
        "    if 'Range' not in Name.split(maxsplit=4):\n",
        "      return 'Land Rover'\n",
        "    else:\n",
        "      return 'Range Rover'\n",
        "train['Brand']=train['Name'].apply(Brand_ext)\n",
        "test['Brand']=test['Name'].apply(Brand_ext)\n",
        "train.head()"
      ],
      "execution_count": 27,
      "outputs": [
        {
          "output_type": "execute_result",
          "data": {
            "text/html": [
              "<div>\n",
              "<style scoped>\n",
              "    .dataframe tbody tr th:only-of-type {\n",
              "        vertical-align: middle;\n",
              "    }\n",
              "\n",
              "    .dataframe tbody tr th {\n",
              "        vertical-align: top;\n",
              "    }\n",
              "\n",
              "    .dataframe thead th {\n",
              "        text-align: right;\n",
              "    }\n",
              "</style>\n",
              "<table border=\"1\" class=\"dataframe\">\n",
              "  <thead>\n",
              "    <tr style=\"text-align: right;\">\n",
              "      <th></th>\n",
              "      <th>Name</th>\n",
              "      <th>Location</th>\n",
              "      <th>Year</th>\n",
              "      <th>Kilometers_Driven</th>\n",
              "      <th>Fuel_Type</th>\n",
              "      <th>Transmission</th>\n",
              "      <th>Owner_Type</th>\n",
              "      <th>Mileage</th>\n",
              "      <th>Engine</th>\n",
              "      <th>Power</th>\n",
              "      <th>Seats</th>\n",
              "      <th>New_Price</th>\n",
              "      <th>Price</th>\n",
              "      <th>Brand</th>\n",
              "    </tr>\n",
              "  </thead>\n",
              "  <tbody>\n",
              "    <tr>\n",
              "      <th>0</th>\n",
              "      <td>Maruti Wagon R LXI CNG</td>\n",
              "      <td>6</td>\n",
              "      <td>2010</td>\n",
              "      <td>72000</td>\n",
              "      <td>CNG</td>\n",
              "      <td>1</td>\n",
              "      <td>1</td>\n",
              "      <td>26.6 km/kg</td>\n",
              "      <td>998 CC</td>\n",
              "      <td>58.16 bhp</td>\n",
              "      <td>5</td>\n",
              "      <td>NaN</td>\n",
              "      <td>1.75</td>\n",
              "      <td>Maruti</td>\n",
              "    </tr>\n",
              "    <tr>\n",
              "      <th>1</th>\n",
              "      <td>Hyundai Creta 1.6 CRDi SX Option</td>\n",
              "      <td>9</td>\n",
              "      <td>2015</td>\n",
              "      <td>41000</td>\n",
              "      <td>Diesel</td>\n",
              "      <td>1</td>\n",
              "      <td>1</td>\n",
              "      <td>19.67 kmpl</td>\n",
              "      <td>1582 CC</td>\n",
              "      <td>126.2 bhp</td>\n",
              "      <td>5</td>\n",
              "      <td>NaN</td>\n",
              "      <td>12.50</td>\n",
              "      <td>Hyundai</td>\n",
              "    </tr>\n",
              "    <tr>\n",
              "      <th>2</th>\n",
              "      <td>Honda Jazz V</td>\n",
              "      <td>8</td>\n",
              "      <td>2011</td>\n",
              "      <td>46000</td>\n",
              "      <td>Petrol</td>\n",
              "      <td>1</td>\n",
              "      <td>1</td>\n",
              "      <td>18.2 kmpl</td>\n",
              "      <td>1199 CC</td>\n",
              "      <td>88.7 bhp</td>\n",
              "      <td>5</td>\n",
              "      <td>8.61 Lakh</td>\n",
              "      <td>4.50</td>\n",
              "      <td>Honda</td>\n",
              "    </tr>\n",
              "    <tr>\n",
              "      <th>3</th>\n",
              "      <td>Maruti Ertiga VDI</td>\n",
              "      <td>8</td>\n",
              "      <td>2012</td>\n",
              "      <td>87000</td>\n",
              "      <td>Diesel</td>\n",
              "      <td>1</td>\n",
              "      <td>1</td>\n",
              "      <td>20.77 kmpl</td>\n",
              "      <td>1248 CC</td>\n",
              "      <td>88.76 bhp</td>\n",
              "      <td>7</td>\n",
              "      <td>NaN</td>\n",
              "      <td>6.00</td>\n",
              "      <td>Maruti</td>\n",
              "    </tr>\n",
              "    <tr>\n",
              "      <th>4</th>\n",
              "      <td>Audi A4 New 2.0 TDI Multitronic</td>\n",
              "      <td>1</td>\n",
              "      <td>2013</td>\n",
              "      <td>40670</td>\n",
              "      <td>Diesel</td>\n",
              "      <td>0</td>\n",
              "      <td>2</td>\n",
              "      <td>15.2 kmpl</td>\n",
              "      <td>1968 CC</td>\n",
              "      <td>140.8 bhp</td>\n",
              "      <td>5</td>\n",
              "      <td>NaN</td>\n",
              "      <td>17.74</td>\n",
              "      <td>Audi</td>\n",
              "    </tr>\n",
              "  </tbody>\n",
              "</table>\n",
              "</div>"
            ],
            "text/plain": [
              "                               Name  Location  Year  ...  New_Price  Price    Brand\n",
              "0            Maruti Wagon R LXI CNG         6  2010  ...        NaN   1.75   Maruti\n",
              "1  Hyundai Creta 1.6 CRDi SX Option         9  2015  ...        NaN  12.50  Hyundai\n",
              "2                      Honda Jazz V         8  2011  ...  8.61 Lakh   4.50    Honda\n",
              "3                 Maruti Ertiga VDI         8  2012  ...        NaN   6.00   Maruti\n",
              "4   Audi A4 New 2.0 TDI Multitronic         1  2013  ...        NaN  17.74     Audi\n",
              "\n",
              "[5 rows x 14 columns]"
            ]
          },
          "metadata": {
            "tags": []
          },
          "execution_count": 27
        }
      ]
    },
    {
      "cell_type": "code",
      "metadata": {
        "id": "Qx6nW9d8BwtE",
        "colab_type": "code",
        "colab": {
          "base_uri": "https://localhost:8080/",
          "height": 197
        },
        "outputId": "74135fd0-30da-4e5c-b067-2eb25213ea41"
      },
      "source": [
        "test.head()"
      ],
      "execution_count": 28,
      "outputs": [
        {
          "output_type": "execute_result",
          "data": {
            "text/html": [
              "<div>\n",
              "<style scoped>\n",
              "    .dataframe tbody tr th:only-of-type {\n",
              "        vertical-align: middle;\n",
              "    }\n",
              "\n",
              "    .dataframe tbody tr th {\n",
              "        vertical-align: top;\n",
              "    }\n",
              "\n",
              "    .dataframe thead th {\n",
              "        text-align: right;\n",
              "    }\n",
              "</style>\n",
              "<table border=\"1\" class=\"dataframe\">\n",
              "  <thead>\n",
              "    <tr style=\"text-align: right;\">\n",
              "      <th></th>\n",
              "      <th>Name</th>\n",
              "      <th>Location</th>\n",
              "      <th>Year</th>\n",
              "      <th>Kilometers_Driven</th>\n",
              "      <th>Fuel_Type</th>\n",
              "      <th>Transmission</th>\n",
              "      <th>Owner_Type</th>\n",
              "      <th>Mileage</th>\n",
              "      <th>Engine</th>\n",
              "      <th>Power</th>\n",
              "      <th>Seats</th>\n",
              "      <th>New_Price</th>\n",
              "      <th>Brand</th>\n",
              "    </tr>\n",
              "  </thead>\n",
              "  <tbody>\n",
              "    <tr>\n",
              "      <th>0</th>\n",
              "      <td>Maruti Alto K10 LXI CNG</td>\n",
              "      <td>5</td>\n",
              "      <td>2014</td>\n",
              "      <td>40929</td>\n",
              "      <td>CNG</td>\n",
              "      <td>1</td>\n",
              "      <td>1</td>\n",
              "      <td>32.26 km/kg</td>\n",
              "      <td>998 CC</td>\n",
              "      <td>58.2 bhp</td>\n",
              "      <td>4</td>\n",
              "      <td>NaN</td>\n",
              "      <td>Maruti</td>\n",
              "    </tr>\n",
              "    <tr>\n",
              "      <th>1</th>\n",
              "      <td>Maruti Alto 800 2016-2019 LXI</td>\n",
              "      <td>1</td>\n",
              "      <td>2013</td>\n",
              "      <td>54493</td>\n",
              "      <td>Petrol</td>\n",
              "      <td>1</td>\n",
              "      <td>2</td>\n",
              "      <td>24.7 kmpl</td>\n",
              "      <td>796 CC</td>\n",
              "      <td>47.3 bhp</td>\n",
              "      <td>5</td>\n",
              "      <td>NaN</td>\n",
              "      <td>Maruti</td>\n",
              "    </tr>\n",
              "    <tr>\n",
              "      <th>2</th>\n",
              "      <td>Toyota Innova Crysta Touring Sport 2.4 MT</td>\n",
              "      <td>6</td>\n",
              "      <td>2017</td>\n",
              "      <td>34000</td>\n",
              "      <td>Diesel</td>\n",
              "      <td>1</td>\n",
              "      <td>1</td>\n",
              "      <td>13.68 kmpl</td>\n",
              "      <td>2393 CC</td>\n",
              "      <td>147.8 bhp</td>\n",
              "      <td>7</td>\n",
              "      <td>25.27 Lakh</td>\n",
              "      <td>Toyota</td>\n",
              "    </tr>\n",
              "    <tr>\n",
              "      <th>3</th>\n",
              "      <td>Toyota Etios Liva GD</td>\n",
              "      <td>4</td>\n",
              "      <td>2012</td>\n",
              "      <td>139000</td>\n",
              "      <td>Diesel</td>\n",
              "      <td>1</td>\n",
              "      <td>1</td>\n",
              "      <td>23.59 kmpl</td>\n",
              "      <td>1364 CC</td>\n",
              "      <td>67.04 bhp</td>\n",
              "      <td>5</td>\n",
              "      <td>NaN</td>\n",
              "      <td>Toyota</td>\n",
              "    </tr>\n",
              "    <tr>\n",
              "      <th>4</th>\n",
              "      <td>Hyundai i20 Magna</td>\n",
              "      <td>6</td>\n",
              "      <td>2014</td>\n",
              "      <td>29000</td>\n",
              "      <td>Petrol</td>\n",
              "      <td>1</td>\n",
              "      <td>1</td>\n",
              "      <td>18.5 kmpl</td>\n",
              "      <td>1197 CC</td>\n",
              "      <td>82.85 bhp</td>\n",
              "      <td>5</td>\n",
              "      <td>NaN</td>\n",
              "      <td>Hyundai</td>\n",
              "    </tr>\n",
              "  </tbody>\n",
              "</table>\n",
              "</div>"
            ],
            "text/plain": [
              "                                        Name  Location  ...   New_Price    Brand\n",
              "0                    Maruti Alto K10 LXI CNG         5  ...         NaN   Maruti\n",
              "1              Maruti Alto 800 2016-2019 LXI         1  ...         NaN   Maruti\n",
              "2  Toyota Innova Crysta Touring Sport 2.4 MT         6  ...  25.27 Lakh   Toyota\n",
              "3                       Toyota Etios Liva GD         4  ...         NaN   Toyota\n",
              "4                          Hyundai i20 Magna         6  ...         NaN  Hyundai\n",
              "\n",
              "[5 rows x 13 columns]"
            ]
          },
          "metadata": {
            "tags": []
          },
          "execution_count": 28
        }
      ]
    },
    {
      "cell_type": "code",
      "metadata": {
        "id": "V2q7dHplJLEL",
        "colab_type": "code",
        "outputId": "19a51b0e-3744-4a21-802e-4556a2ec3cdd",
        "colab": {
          "base_uri": "https://localhost:8080/",
          "height": 354
        }
      },
      "source": [
        "train.info()"
      ],
      "execution_count": 29,
      "outputs": [
        {
          "output_type": "stream",
          "text": [
            "<class 'pandas.core.frame.DataFrame'>\n",
            "RangeIndex: 6019 entries, 0 to 6018\n",
            "Data columns (total 14 columns):\n",
            "Name                 6019 non-null object\n",
            "Location             6019 non-null int64\n",
            "Year                 6019 non-null int64\n",
            "Kilometers_Driven    6019 non-null int64\n",
            "Fuel_Type            6019 non-null object\n",
            "Transmission         6019 non-null int64\n",
            "Owner_Type           6019 non-null int64\n",
            "Mileage              6019 non-null object\n",
            "Engine               6019 non-null object\n",
            "Power                6019 non-null object\n",
            "Seats                6019 non-null int64\n",
            "New_Price            824 non-null object\n",
            "Price                6019 non-null float64\n",
            "Brand                6019 non-null object\n",
            "dtypes: float64(1), int64(6), object(7)\n",
            "memory usage: 658.4+ KB\n"
          ],
          "name": "stdout"
        }
      ]
    },
    {
      "cell_type": "code",
      "metadata": {
        "id": "Xztrc1tJBy0e",
        "colab_type": "code",
        "colab": {
          "base_uri": "https://localhost:8080/",
          "height": 336
        },
        "outputId": "779fd41b-df45-4347-ac31-41d163e7fba7"
      },
      "source": [
        "test.info()"
      ],
      "execution_count": 30,
      "outputs": [
        {
          "output_type": "stream",
          "text": [
            "<class 'pandas.core.frame.DataFrame'>\n",
            "RangeIndex: 1234 entries, 0 to 1233\n",
            "Data columns (total 13 columns):\n",
            "Name                 1234 non-null object\n",
            "Location             1234 non-null int64\n",
            "Year                 1234 non-null int64\n",
            "Kilometers_Driven    1234 non-null int64\n",
            "Fuel_Type            1234 non-null object\n",
            "Transmission         1234 non-null int64\n",
            "Owner_Type           1234 non-null int64\n",
            "Mileage              1234 non-null object\n",
            "Engine               1234 non-null object\n",
            "Power                1234 non-null object\n",
            "Seats                1234 non-null int64\n",
            "New_Price            182 non-null object\n",
            "Brand                1234 non-null object\n",
            "dtypes: int64(6), object(7)\n",
            "memory usage: 125.4+ KB\n"
          ],
          "name": "stdout"
        }
      ]
    },
    {
      "cell_type": "code",
      "metadata": {
        "id": "tBEmkwGeJgM6",
        "colab_type": "code",
        "outputId": "8c11f257-e40e-4991-f2b0-16dda815546a",
        "colab": {
          "base_uri": "https://localhost:8080/",
          "height": 123
        }
      },
      "source": [
        "len(train.Brand.unique()) #31\n",
        "train.Brand.unique()"
      ],
      "execution_count": 31,
      "outputs": [
        {
          "output_type": "execute_result",
          "data": {
            "text/plain": [
              "array(['Maruti', 'Hyundai', 'Honda', 'Audi', 'Nissan', 'Toyota',\n",
              "       'Volkswagen', 'Tata', 'Range Rover', 'Land Rover', 'Mitsubishi',\n",
              "       'Renault', 'Mercedes-Benz', 'BMW', 'Mahindra', 'Ford', 'Porsche',\n",
              "       'Datsun', 'Jaguar', 'Volvo', 'Chevrolet', 'Skoda', 'Mini', 'Fiat',\n",
              "       'Jeep', 'Smart', 'Hindustan', 'ISUZU', 'Force', 'Bentley',\n",
              "       'Lamborghini'], dtype=object)"
            ]
          },
          "metadata": {
            "tags": []
          },
          "execution_count": 31
        }
      ]
    },
    {
      "cell_type": "code",
      "metadata": {
        "id": "PjRfvkcxB5BO",
        "colab_type": "code",
        "outputId": "b3ca3112-bb3a-4075-f5cb-7533655e2739",
        "colab": {
          "base_uri": "https://localhost:8080/",
          "height": 105
        }
      },
      "source": [
        "test.Brand.unique()"
      ],
      "execution_count": 32,
      "outputs": [
        {
          "output_type": "execute_result",
          "data": {
            "text/plain": [
              "array(['Maruti', 'Toyota', 'Hyundai', 'Mahindra', 'Honda', 'Audi',\n",
              "       'Nissan', 'BMW', 'Ford', 'Skoda', 'Volkswagen', 'Mitsubishi',\n",
              "       'Mercedes-Benz', 'Tata', 'Chevrolet', 'Datsun', 'Jaguar', 'Fiat',\n",
              "       'Hindustan', 'Renault', 'Mini', 'Bentley', 'Land Rover', 'Volvo',\n",
              "       'Range Rover', 'ISUZU', 'Jeep', 'Porsche', 'Opel'], dtype=object)"
            ]
          },
          "metadata": {
            "tags": []
          },
          "execution_count": 32
        }
      ]
    },
    {
      "cell_type": "code",
      "metadata": {
        "id": "uI5Yq-0xJbPh",
        "colab_type": "code",
        "outputId": "a9b333a8-3d8c-4af0-ba83-382bd913002b",
        "colab": {
          "base_uri": "https://localhost:8080/",
          "height": 615
        }
      },
      "source": [
        "train.groupby(\"Brand\").Price.mean().sort_values(ascending=False).plot.bar()"
      ],
      "execution_count": 33,
      "outputs": [
        {
          "output_type": "execute_result",
          "data": {
            "text/plain": [
              "<matplotlib.axes._subplots.AxesSubplot at 0x7f612cf2ccf8>"
            ]
          },
          "metadata": {
            "tags": []
          },
          "execution_count": 33
        },
        {
          "output_type": "display_data",
          "data": {
            "image/png": "[encoded data removed]",
            "text/plain": [
              "<Figure size 842.4x595.44 with 1 Axes>"
            ]
          },
          "metadata": {
            "tags": []
          }
        }
      ]
    },
    {
      "cell_type": "code",
      "metadata": {
        "id": "KFXuKNi9BJNI",
        "colab_type": "code",
        "outputId": "ab66a211-b4d9-4038-f3db-350fe7b44bca",
        "colab": {
          "base_uri": "https://localhost:8080/",
          "height": 603
        }
      },
      "source": [
        "train.groupby(\"Brand\").Price.mean().sort_values(ascending=False)"
      ],
      "execution_count": 34,
      "outputs": [
        {
          "output_type": "execute_result",
          "data": {
            "text/plain": [
              "Brand\n",
              "Lamborghini      120.000000\n",
              "Bentley           59.000000\n",
              "Range Rover       50.122258\n",
              "Porsche           48.348333\n",
              "Jaguar            37.632250\n",
              "Land Rover        27.647586\n",
              "Mini              26.896923\n",
              "Mercedes-Benz     26.809874\n",
              "Audi              25.537712\n",
              "BMW               25.243146\n",
              "Volvo             18.802857\n",
              "Jeep              18.718667\n",
              "ISUZU             14.696667\n",
              "Toyota            11.580024\n",
              "Mitsubishi        11.058889\n",
              "Force              9.333333\n",
              "Mahindra           8.045919\n",
              "Skoda              7.559075\n",
              "Ford               6.889400\n",
              "Renault            5.799034\n",
              "Honda              5.411743\n",
              "Hyundai            5.343433\n",
              "Volkswagen         5.307270\n",
              "Nissan             4.738352\n",
              "Maruti             4.517267\n",
              "Tata               3.562849\n",
              "Fiat               3.269286\n",
              "Datsun             3.049231\n",
              "Chevrolet          3.044463\n",
              "Smart              3.000000\n",
              "Hindustan          1.350000\n",
              "Name: Price, dtype: float64"
            ]
          },
          "metadata": {
            "tags": []
          },
          "execution_count": 34
        }
      ]
    },
    {
      "cell_type": "code",
      "metadata": {
        "id": "WMXBY1b1NmSX",
        "colab_type": "code",
        "colab": {}
      },
      "source": [
        "brand_rank={\n",
        "    'Maruti':25, 'Hyundai':22, 'Honda':21, 'Audi':9, 'Nissan':24, 'Toyota':14,\n",
        "       'Volkswagen':23, 'Tata':26, 'Range Rover':3, 'Land Rover':6, 'Mitsubishi':15,\n",
        "       'Renault':20, 'Mercedes-Benz':8, 'BMW':10, 'Mahindra':17, 'Ford':19, 'Porsche':4,\n",
        "       'Datsun':28, 'Jaguar':5, 'Volvo':11, 'Chevrolet':29, 'Skoda':18, 'Mini':7, 'Fiat':27,\n",
        "       'Jeep':12, 'Smart':30, 'Ambassador':31, 'ISUZU':13, 'Force':16, 'Bentley':2,\n",
        "       'Lamborghini':1\n",
        "}\n"
      ],
      "execution_count": 0,
      "outputs": []
    },
    {
      "cell_type": "code",
      "metadata": {
        "id": "Tr1_nDPckO-D",
        "colab_type": "code",
        "colab": {
          "base_uri": "https://localhost:8080/",
          "height": 197
        },
        "outputId": "20ef0f6d-ccf7-44c9-93f5-0fdc1d55776f"
      },
      "source": [
        "def brand_enc(brand):\n",
        "  if brand in brand_rank:\n",
        "     return brand_rank[brand]\n",
        "  else:\n",
        "     return 21\n",
        "train['Brand']=train['Brand'].apply(brand_enc)\n",
        "test['Brand']=test['Brand'].apply(brand_enc)\n",
        "\n",
        "test.head()"
      ],
      "execution_count": 36,
      "outputs": [
        {
          "output_type": "execute_result",
          "data": {
            "text/html": [
              "<div>\n",
              "<style scoped>\n",
              "    .dataframe tbody tr th:only-of-type {\n",
              "        vertical-align: middle;\n",
              "    }\n",
              "\n",
              "    .dataframe tbody tr th {\n",
              "        vertical-align: top;\n",
              "    }\n",
              "\n",
              "    .dataframe thead th {\n",
              "        text-align: right;\n",
              "    }\n",
              "</style>\n",
              "<table border=\"1\" class=\"dataframe\">\n",
              "  <thead>\n",
              "    <tr style=\"text-align: right;\">\n",
              "      <th></th>\n",
              "      <th>Name</th>\n",
              "      <th>Location</th>\n",
              "      <th>Year</th>\n",
              "      <th>Kilometers_Driven</th>\n",
              "      <th>Fuel_Type</th>\n",
              "      <th>Transmission</th>\n",
              "      <th>Owner_Type</th>\n",
              "      <th>Mileage</th>\n",
              "      <th>Engine</th>\n",
              "      <th>Power</th>\n",
              "      <th>Seats</th>\n",
              "      <th>New_Price</th>\n",
              "      <th>Brand</th>\n",
              "    </tr>\n",
              "  </thead>\n",
              "  <tbody>\n",
              "    <tr>\n",
              "      <th>0</th>\n",
              "      <td>Maruti Alto K10 LXI CNG</td>\n",
              "      <td>5</td>\n",
              "      <td>2014</td>\n",
              "      <td>40929</td>\n",
              "      <td>CNG</td>\n",
              "      <td>1</td>\n",
              "      <td>1</td>\n",
              "      <td>32.26 km/kg</td>\n",
              "      <td>998 CC</td>\n",
              "      <td>58.2 bhp</td>\n",
              "      <td>4</td>\n",
              "      <td>NaN</td>\n",
              "      <td>25</td>\n",
              "    </tr>\n",
              "    <tr>\n",
              "      <th>1</th>\n",
              "      <td>Maruti Alto 800 2016-2019 LXI</td>\n",
              "      <td>1</td>\n",
              "      <td>2013</td>\n",
              "      <td>54493</td>\n",
              "      <td>Petrol</td>\n",
              "      <td>1</td>\n",
              "      <td>2</td>\n",
              "      <td>24.7 kmpl</td>\n",
              "      <td>796 CC</td>\n",
              "      <td>47.3 bhp</td>\n",
              "      <td>5</td>\n",
              "      <td>NaN</td>\n",
              "      <td>25</td>\n",
              "    </tr>\n",
              "    <tr>\n",
              "      <th>2</th>\n",
              "      <td>Toyota Innova Crysta Touring Sport 2.4 MT</td>\n",
              "      <td>6</td>\n",
              "      <td>2017</td>\n",
              "      <td>34000</td>\n",
              "      <td>Diesel</td>\n",
              "      <td>1</td>\n",
              "      <td>1</td>\n",
              "      <td>13.68 kmpl</td>\n",
              "      <td>2393 CC</td>\n",
              "      <td>147.8 bhp</td>\n",
              "      <td>7</td>\n",
              "      <td>25.27 Lakh</td>\n",
              "      <td>14</td>\n",
              "    </tr>\n",
              "    <tr>\n",
              "      <th>3</th>\n",
              "      <td>Toyota Etios Liva GD</td>\n",
              "      <td>4</td>\n",
              "      <td>2012</td>\n",
              "      <td>139000</td>\n",
              "      <td>Diesel</td>\n",
              "      <td>1</td>\n",
              "      <td>1</td>\n",
              "      <td>23.59 kmpl</td>\n",
              "      <td>1364 CC</td>\n",
              "      <td>67.04 bhp</td>\n",
              "      <td>5</td>\n",
              "      <td>NaN</td>\n",
              "      <td>14</td>\n",
              "    </tr>\n",
              "    <tr>\n",
              "      <th>4</th>\n",
              "      <td>Hyundai i20 Magna</td>\n",
              "      <td>6</td>\n",
              "      <td>2014</td>\n",
              "      <td>29000</td>\n",
              "      <td>Petrol</td>\n",
              "      <td>1</td>\n",
              "      <td>1</td>\n",
              "      <td>18.5 kmpl</td>\n",
              "      <td>1197 CC</td>\n",
              "      <td>82.85 bhp</td>\n",
              "      <td>5</td>\n",
              "      <td>NaN</td>\n",
              "      <td>22</td>\n",
              "    </tr>\n",
              "  </tbody>\n",
              "</table>\n",
              "</div>"
            ],
            "text/plain": [
              "                                        Name  Location  ...   New_Price  Brand\n",
              "0                    Maruti Alto K10 LXI CNG         5  ...         NaN     25\n",
              "1              Maruti Alto 800 2016-2019 LXI         1  ...         NaN     25\n",
              "2  Toyota Innova Crysta Touring Sport 2.4 MT         6  ...  25.27 Lakh     14\n",
              "3                       Toyota Etios Liva GD         4  ...         NaN     14\n",
              "4                          Hyundai i20 Magna         6  ...         NaN     22\n",
              "\n",
              "[5 rows x 13 columns]"
            ]
          },
          "metadata": {
            "tags": []
          },
          "execution_count": 36
        }
      ]
    },
    {
      "cell_type": "code",
      "metadata": {
        "id": "un9GqQoGjtY9",
        "colab_type": "code",
        "outputId": "875802e0-9485-4721-ec05-a8cba4931c7d",
        "colab": {
          "base_uri": "https://localhost:8080/",
          "height": 572
        }
      },
      "source": [
        " '''fuel type heirachy found on the net:\n",
        "Electric\n",
        "Diesel\n",
        "CNG\n",
        "LPG\n",
        "Petrol'''\n",
        "train.loc[train.Fuel_Type.str.contains(\"Electric\")]#['Price'].values\n",
        "train.groupby(\"Fuel_Type\").Price.mean().sort_values(ascending=False).plot.bar()"
      ],
      "execution_count": 37,
      "outputs": [
        {
          "output_type": "execute_result",
          "data": {
            "text/plain": [
              "<matplotlib.axes._subplots.AxesSubplot at 0x7f612cf291d0>"
            ]
          },
          "metadata": {
            "tags": []
          },
          "execution_count": 37
        },
        {
          "output_type": "display_data",
          "data": {
            "image/png": "[encoded data removed]",
            "text/plain": [
              "<Figure size 842.4x595.44 with 1 Axes>"
            ]
          },
          "metadata": {
            "tags": []
          }
        }
      ]
    },
    {
      "cell_type": "code",
      "metadata": {
        "id": "dBnIuTVWj4bi",
        "colab_type": "code",
        "colab": {
          "base_uri": "https://localhost:8080/",
          "height": 197
        },
        "outputId": "353230bb-eb2a-49d4-9dde-3eb744e36c28"
      },
      "source": [
        "def fuel_type_enc(fuel):\n",
        "  if fuel == 'Electric':\n",
        "    return 1\n",
        "  elif fuel =='Diesel':\n",
        "    return 2\n",
        "  elif fuel == 'CNG':\n",
        "    return 4\n",
        "  elif fuel == ' LPG':\n",
        "    return 5\n",
        "  else:\n",
        "    return 3\n",
        "train['Fuel_Type']=train['Fuel_Type'].apply(fuel_type_enc)\n",
        "test['Fuel_Type']=test['Fuel_Type'].apply(fuel_type_enc)\n",
        "test.head()"
      ],
      "execution_count": 38,
      "outputs": [
        {
          "output_type": "execute_result",
          "data": {
            "text/html": [
              "<div>\n",
              "<style scoped>\n",
              "    .dataframe tbody tr th:only-of-type {\n",
              "        vertical-align: middle;\n",
              "    }\n",
              "\n",
              "    .dataframe tbody tr th {\n",
              "        vertical-align: top;\n",
              "    }\n",
              "\n",
              "    .dataframe thead th {\n",
              "        text-align: right;\n",
              "    }\n",
              "</style>\n",
              "<table border=\"1\" class=\"dataframe\">\n",
              "  <thead>\n",
              "    <tr style=\"text-align: right;\">\n",
              "      <th></th>\n",
              "      <th>Name</th>\n",
              "      <th>Location</th>\n",
              "      <th>Year</th>\n",
              "      <th>Kilometers_Driven</th>\n",
              "      <th>Fuel_Type</th>\n",
              "      <th>Transmission</th>\n",
              "      <th>Owner_Type</th>\n",
              "      <th>Mileage</th>\n",
              "      <th>Engine</th>\n",
              "      <th>Power</th>\n",
              "      <th>Seats</th>\n",
              "      <th>New_Price</th>\n",
              "      <th>Brand</th>\n",
              "    </tr>\n",
              "  </thead>\n",
              "  <tbody>\n",
              "    <tr>\n",
              "      <th>0</th>\n",
              "      <td>Maruti Alto K10 LXI CNG</td>\n",
              "      <td>5</td>\n",
              "      <td>2014</td>\n",
              "      <td>40929</td>\n",
              "      <td>4</td>\n",
              "      <td>1</td>\n",
              "      <td>1</td>\n",
              "      <td>32.26 km/kg</td>\n",
              "      <td>998 CC</td>\n",
              "      <td>58.2 bhp</td>\n",
              "      <td>4</td>\n",
              "      <td>NaN</td>\n",
              "      <td>25</td>\n",
              "    </tr>\n",
              "    <tr>\n",
              "      <th>1</th>\n",
              "      <td>Maruti Alto 800 2016-2019 LXI</td>\n",
              "      <td>1</td>\n",
              "      <td>2013</td>\n",
              "      <td>54493</td>\n",
              "      <td>3</td>\n",
              "      <td>1</td>\n",
              "      <td>2</td>\n",
              "      <td>24.7 kmpl</td>\n",
              "      <td>796 CC</td>\n",
              "      <td>47.3 bhp</td>\n",
              "      <td>5</td>\n",
              "      <td>NaN</td>\n",
              "      <td>25</td>\n",
              "    </tr>\n",
              "    <tr>\n",
              "      <th>2</th>\n",
              "      <td>Toyota Innova Crysta Touring Sport 2.4 MT</td>\n",
              "      <td>6</td>\n",
              "      <td>2017</td>\n",
              "      <td>34000</td>\n",
              "      <td>2</td>\n",
              "      <td>1</td>\n",
              "      <td>1</td>\n",
              "      <td>13.68 kmpl</td>\n",
              "      <td>2393 CC</td>\n",
              "      <td>147.8 bhp</td>\n",
              "      <td>7</td>\n",
              "      <td>25.27 Lakh</td>\n",
              "      <td>14</td>\n",
              "    </tr>\n",
              "    <tr>\n",
              "      <th>3</th>\n",
              "      <td>Toyota Etios Liva GD</td>\n",
              "      <td>4</td>\n",
              "      <td>2012</td>\n",
              "      <td>139000</td>\n",
              "      <td>2</td>\n",
              "      <td>1</td>\n",
              "      <td>1</td>\n",
              "      <td>23.59 kmpl</td>\n",
              "      <td>1364 CC</td>\n",
              "      <td>67.04 bhp</td>\n",
              "      <td>5</td>\n",
              "      <td>NaN</td>\n",
              "      <td>14</td>\n",
              "    </tr>\n",
              "    <tr>\n",
              "      <th>4</th>\n",
              "      <td>Hyundai i20 Magna</td>\n",
              "      <td>6</td>\n",
              "      <td>2014</td>\n",
              "      <td>29000</td>\n",
              "      <td>3</td>\n",
              "      <td>1</td>\n",
              "      <td>1</td>\n",
              "      <td>18.5 kmpl</td>\n",
              "      <td>1197 CC</td>\n",
              "      <td>82.85 bhp</td>\n",
              "      <td>5</td>\n",
              "      <td>NaN</td>\n",
              "      <td>22</td>\n",
              "    </tr>\n",
              "  </tbody>\n",
              "</table>\n",
              "</div>"
            ],
            "text/plain": [
              "                                        Name  Location  ...   New_Price  Brand\n",
              "0                    Maruti Alto K10 LXI CNG         5  ...         NaN     25\n",
              "1              Maruti Alto 800 2016-2019 LXI         1  ...         NaN     25\n",
              "2  Toyota Innova Crysta Touring Sport 2.4 MT         6  ...  25.27 Lakh     14\n",
              "3                       Toyota Etios Liva GD         4  ...         NaN     14\n",
              "4                          Hyundai i20 Magna         6  ...         NaN     22\n",
              "\n",
              "[5 rows x 13 columns]"
            ]
          },
          "metadata": {
            "tags": []
          },
          "execution_count": 38
        }
      ]
    },
    {
      "cell_type": "code",
      "metadata": {
        "id": "hsZH5gsBnjlw",
        "colab_type": "code",
        "colab": {
          "base_uri": "https://localhost:8080/",
          "height": 47
        },
        "outputId": "3cac2151-28f5-479a-957b-bf53c16bb6f3"
      },
      "source": [
        "#dealing with null values for engine power and seats\n",
        "train.loc[train['Mileage'].isnull()]\n"
      ],
      "execution_count": 39,
      "outputs": [
        {
          "output_type": "execute_result",
          "data": {
            "text/html": [
              "<div>\n",
              "<style scoped>\n",
              "    .dataframe tbody tr th:only-of-type {\n",
              "        vertical-align: middle;\n",
              "    }\n",
              "\n",
              "    .dataframe tbody tr th {\n",
              "        vertical-align: top;\n",
              "    }\n",
              "\n",
              "    .dataframe thead th {\n",
              "        text-align: right;\n",
              "    }\n",
              "</style>\n",
              "<table border=\"1\" class=\"dataframe\">\n",
              "  <thead>\n",
              "    <tr style=\"text-align: right;\">\n",
              "      <th></th>\n",
              "      <th>Name</th>\n",
              "      <th>Location</th>\n",
              "      <th>Year</th>\n",
              "      <th>Kilometers_Driven</th>\n",
              "      <th>Fuel_Type</th>\n",
              "      <th>Transmission</th>\n",
              "      <th>Owner_Type</th>\n",
              "      <th>Mileage</th>\n",
              "      <th>Engine</th>\n",
              "      <th>Power</th>\n",
              "      <th>Seats</th>\n",
              "      <th>New_Price</th>\n",
              "      <th>Price</th>\n",
              "      <th>Brand</th>\n",
              "    </tr>\n",
              "  </thead>\n",
              "  <tbody>\n",
              "  </tbody>\n",
              "</table>\n",
              "</div>"
            ],
            "text/plain": [
              "Empty DataFrame\n",
              "Columns: [Name, Location, Year, Kilometers_Driven, Fuel_Type, Transmission, Owner_Type, Mileage, Engine, Power, Seats, New_Price, Price, Brand]\n",
              "Index: []"
            ]
          },
          "metadata": {
            "tags": []
          },
          "execution_count": 39
        }
      ]
    },
    {
      "cell_type": "code",
      "metadata": {
        "id": "28Ty3g7PBBKN",
        "colab_type": "code",
        "outputId": "10eabb02-32db-4c80-859c-75c8337a35ea",
        "colab": {
          "base_uri": "https://localhost:8080/",
          "height": 34
        }
      },
      "source": [
        "len(train.loc[train['Mileage']=='0.0 kmpl']) #57\n",
        "train.loc[train['Mileage']=='0.0 kmpl'].Name.unique()\n",
        "test.loc[test['Mileage']=='0.0 kmpl'].Name.unique()"
      ],
      "execution_count": 40,
      "outputs": [
        {
          "output_type": "execute_result",
          "data": {
            "text/plain": [
              "array([], dtype=object)"
            ]
          },
          "metadata": {
            "tags": []
          },
          "execution_count": 40
        }
      ]
    },
    {
      "cell_type": "code",
      "metadata": {
        "id": "IbFQMUO9_NG_",
        "colab_type": "code",
        "colab": {
          "base_uri": "https://localhost:8080/",
          "height": 47
        },
        "outputId": "d7ebdef6-e7bb-4398-9d21-6620fb8f0fa5"
      },
      "source": [
        "#train.loc[train['Seats'].isnull()]\n",
        "test.loc[test['Seats'].isnull()]"
      ],
      "execution_count": 41,
      "outputs": [
        {
          "output_type": "execute_result",
          "data": {
            "text/html": [
              "<div>\n",
              "<style scoped>\n",
              "    .dataframe tbody tr th:only-of-type {\n",
              "        vertical-align: middle;\n",
              "    }\n",
              "\n",
              "    .dataframe tbody tr th {\n",
              "        vertical-align: top;\n",
              "    }\n",
              "\n",
              "    .dataframe thead th {\n",
              "        text-align: right;\n",
              "    }\n",
              "</style>\n",
              "<table border=\"1\" class=\"dataframe\">\n",
              "  <thead>\n",
              "    <tr style=\"text-align: right;\">\n",
              "      <th></th>\n",
              "      <th>Name</th>\n",
              "      <th>Location</th>\n",
              "      <th>Year</th>\n",
              "      <th>Kilometers_Driven</th>\n",
              "      <th>Fuel_Type</th>\n",
              "      <th>Transmission</th>\n",
              "      <th>Owner_Type</th>\n",
              "      <th>Mileage</th>\n",
              "      <th>Engine</th>\n",
              "      <th>Power</th>\n",
              "      <th>Seats</th>\n",
              "      <th>New_Price</th>\n",
              "      <th>Brand</th>\n",
              "    </tr>\n",
              "  </thead>\n",
              "  <tbody>\n",
              "  </tbody>\n",
              "</table>\n",
              "</div>"
            ],
            "text/plain": [
              "Empty DataFrame\n",
              "Columns: [Name, Location, Year, Kilometers_Driven, Fuel_Type, Transmission, Owner_Type, Mileage, Engine, Power, Seats, New_Price, Brand]\n",
              "Index: []"
            ]
          },
          "metadata": {
            "tags": []
          },
          "execution_count": 41
        }
      ]
    },
    {
      "cell_type": "code",
      "metadata": {
        "id": "84I0kzgIlyrb",
        "colab_type": "code",
        "colab": {
          "base_uri": "https://localhost:8080/",
          "height": 197
        },
        "outputId": "b6ff05c4-ac95-4d79-a14c-8afa2b353410"
      },
      "source": [
        "def engine_to_float(engine_str):\n",
        "    return float(engine_str.replace(\"CC\",\"\"))\n",
        "\n",
        "train['Engine']=train['Engine'].apply(engine_to_float)\n",
        "test['Engine']=test['Engine'].apply(engine_to_float)\n",
        "train.head()"
      ],
      "execution_count": 42,
      "outputs": [
        {
          "output_type": "execute_result",
          "data": {
            "text/html": [
              "<div>\n",
              "<style scoped>\n",
              "    .dataframe tbody tr th:only-of-type {\n",
              "        vertical-align: middle;\n",
              "    }\n",
              "\n",
              "    .dataframe tbody tr th {\n",
              "        vertical-align: top;\n",
              "    }\n",
              "\n",
              "    .dataframe thead th {\n",
              "        text-align: right;\n",
              "    }\n",
              "</style>\n",
              "<table border=\"1\" class=\"dataframe\">\n",
              "  <thead>\n",
              "    <tr style=\"text-align: right;\">\n",
              "      <th></th>\n",
              "      <th>Name</th>\n",
              "      <th>Location</th>\n",
              "      <th>Year</th>\n",
              "      <th>Kilometers_Driven</th>\n",
              "      <th>Fuel_Type</th>\n",
              "      <th>Transmission</th>\n",
              "      <th>Owner_Type</th>\n",
              "      <th>Mileage</th>\n",
              "      <th>Engine</th>\n",
              "      <th>Power</th>\n",
              "      <th>Seats</th>\n",
              "      <th>New_Price</th>\n",
              "      <th>Price</th>\n",
              "      <th>Brand</th>\n",
              "    </tr>\n",
              "  </thead>\n",
              "  <tbody>\n",
              "    <tr>\n",
              "      <th>0</th>\n",
              "      <td>Maruti Wagon R LXI CNG</td>\n",
              "      <td>6</td>\n",
              "      <td>2010</td>\n",
              "      <td>72000</td>\n",
              "      <td>4</td>\n",
              "      <td>1</td>\n",
              "      <td>1</td>\n",
              "      <td>26.6 km/kg</td>\n",
              "      <td>998.0</td>\n",
              "      <td>58.16 bhp</td>\n",
              "      <td>5</td>\n",
              "      <td>NaN</td>\n",
              "      <td>1.75</td>\n",
              "      <td>25</td>\n",
              "    </tr>\n",
              "    <tr>\n",
              "      <th>1</th>\n",
              "      <td>Hyundai Creta 1.6 CRDi SX Option</td>\n",
              "      <td>9</td>\n",
              "      <td>2015</td>\n",
              "      <td>41000</td>\n",
              "      <td>2</td>\n",
              "      <td>1</td>\n",
              "      <td>1</td>\n",
              "      <td>19.67 kmpl</td>\n",
              "      <td>1582.0</td>\n",
              "      <td>126.2 bhp</td>\n",
              "      <td>5</td>\n",
              "      <td>NaN</td>\n",
              "      <td>12.50</td>\n",
              "      <td>22</td>\n",
              "    </tr>\n",
              "    <tr>\n",
              "      <th>2</th>\n",
              "      <td>Honda Jazz V</td>\n",
              "      <td>8</td>\n",
              "      <td>2011</td>\n",
              "      <td>46000</td>\n",
              "      <td>3</td>\n",
              "      <td>1</td>\n",
              "      <td>1</td>\n",
              "      <td>18.2 kmpl</td>\n",
              "      <td>1199.0</td>\n",
              "      <td>88.7 bhp</td>\n",
              "      <td>5</td>\n",
              "      <td>8.61 Lakh</td>\n",
              "      <td>4.50</td>\n",
              "      <td>21</td>\n",
              "    </tr>\n",
              "    <tr>\n",
              "      <th>3</th>\n",
              "      <td>Maruti Ertiga VDI</td>\n",
              "      <td>8</td>\n",
              "      <td>2012</td>\n",
              "      <td>87000</td>\n",
              "      <td>2</td>\n",
              "      <td>1</td>\n",
              "      <td>1</td>\n",
              "      <td>20.77 kmpl</td>\n",
              "      <td>1248.0</td>\n",
              "      <td>88.76 bhp</td>\n",
              "      <td>7</td>\n",
              "      <td>NaN</td>\n",
              "      <td>6.00</td>\n",
              "      <td>25</td>\n",
              "    </tr>\n",
              "    <tr>\n",
              "      <th>4</th>\n",
              "      <td>Audi A4 New 2.0 TDI Multitronic</td>\n",
              "      <td>1</td>\n",
              "      <td>2013</td>\n",
              "      <td>40670</td>\n",
              "      <td>2</td>\n",
              "      <td>0</td>\n",
              "      <td>2</td>\n",
              "      <td>15.2 kmpl</td>\n",
              "      <td>1968.0</td>\n",
              "      <td>140.8 bhp</td>\n",
              "      <td>5</td>\n",
              "      <td>NaN</td>\n",
              "      <td>17.74</td>\n",
              "      <td>9</td>\n",
              "    </tr>\n",
              "  </tbody>\n",
              "</table>\n",
              "</div>"
            ],
            "text/plain": [
              "                               Name  Location  Year  ...  New_Price  Price  Brand\n",
              "0            Maruti Wagon R LXI CNG         6  2010  ...        NaN   1.75     25\n",
              "1  Hyundai Creta 1.6 CRDi SX Option         9  2015  ...        NaN  12.50     22\n",
              "2                      Honda Jazz V         8  2011  ...  8.61 Lakh   4.50     21\n",
              "3                 Maruti Ertiga VDI         8  2012  ...        NaN   6.00     25\n",
              "4   Audi A4 New 2.0 TDI Multitronic         1  2013  ...        NaN  17.74      9\n",
              "\n",
              "[5 rows x 14 columns]"
            ]
          },
          "metadata": {
            "tags": []
          },
          "execution_count": 42
        }
      ]
    },
    {
      "cell_type": "code",
      "metadata": {
        "id": "HMLQr1Kumoy5",
        "colab_type": "code",
        "outputId": "1abdef03-c459-4e88-a9aa-19b7f3246fae",
        "colab": {
          "base_uri": "https://localhost:8080/",
          "height": 34
        }
      },
      "source": [
        "len(train.loc[train['Power'].str.contains(\"null\")]['Name'].unique())\n",
        "train.loc[train['Power'].str.contains(\"null\")]['Name'].unique()\n",
        "test.loc[test['Power'].str.contains(\"null\")]['Name'].unique()"
      ],
      "execution_count": 43,
      "outputs": [
        {
          "output_type": "execute_result",
          "data": {
            "text/plain": [
              "array([], dtype=object)"
            ]
          },
          "metadata": {
            "tags": []
          },
          "execution_count": 43
        }
      ]
    },
    {
      "cell_type": "code",
      "metadata": {
        "id": "1K9UM0QNEXjL",
        "colab_type": "code",
        "outputId": "25ee54d9-19a4-490a-c60d-b3135bb33b1a",
        "colab": {
          "base_uri": "https://localhost:8080/",
          "height": 638
        }
      },
      "source": [
        "#dropping new price due to too many null values\n",
        "train.drop('New_Price',axis=1,inplace=True)\n",
        "test.drop('New_Price',axis=1,inplace=True)\n",
        "train.info()\n",
        "test.info()"
      ],
      "execution_count": 44,
      "outputs": [
        {
          "output_type": "stream",
          "text": [
            "<class 'pandas.core.frame.DataFrame'>\n",
            "RangeIndex: 6019 entries, 0 to 6018\n",
            "Data columns (total 13 columns):\n",
            "Name                 6019 non-null object\n",
            "Location             6019 non-null int64\n",
            "Year                 6019 non-null int64\n",
            "Kilometers_Driven    6019 non-null int64\n",
            "Fuel_Type            6019 non-null int64\n",
            "Transmission         6019 non-null int64\n",
            "Owner_Type           6019 non-null int64\n",
            "Mileage              6019 non-null object\n",
            "Engine               6019 non-null float64\n",
            "Power                6019 non-null object\n",
            "Seats                6019 non-null int64\n",
            "Price                6019 non-null float64\n",
            "Brand                6019 non-null int64\n",
            "dtypes: float64(2), int64(8), object(3)\n",
            "memory usage: 611.4+ KB\n",
            "<class 'pandas.core.frame.DataFrame'>\n",
            "RangeIndex: 1234 entries, 0 to 1233\n",
            "Data columns (total 12 columns):\n",
            "Name                 1234 non-null object\n",
            "Location             1234 non-null int64\n",
            "Year                 1234 non-null int64\n",
            "Kilometers_Driven    1234 non-null int64\n",
            "Fuel_Type            1234 non-null int64\n",
            "Transmission         1234 non-null int64\n",
            "Owner_Type           1234 non-null int64\n",
            "Mileage              1234 non-null object\n",
            "Engine               1234 non-null float64\n",
            "Power                1234 non-null object\n",
            "Seats                1234 non-null int64\n",
            "Brand                1234 non-null int64\n",
            "dtypes: float64(1), int64(8), object(3)\n",
            "memory usage: 115.8+ KB\n"
          ],
          "name": "stdout"
        }
      ]
    },
    {
      "cell_type": "code",
      "metadata": {
        "id": "G22b8ldVhWR_",
        "colab_type": "code",
        "outputId": "752dc266-f14f-43da-cab0-79302358e74a",
        "colab": {
          "base_uri": "https://localhost:8080/",
          "height": 615
        }
      },
      "source": [
        "sns.heatmap(train.corr())"
      ],
      "execution_count": 45,
      "outputs": [
        {
          "output_type": "execute_result",
          "data": {
            "text/plain": [
              "<matplotlib.axes._subplots.AxesSubplot at 0x7f612cf2c5f8>"
            ]
          },
          "metadata": {
            "tags": []
          },
          "execution_count": 45
        },
        {
          "output_type": "display_data",
          "data": {
            "image/png": "[encoded data removed]",
            "text/plain": [
              "<Figure size 842.4x595.44 with 2 Axes>"
            ]
          },
          "metadata": {
            "tags": []
          }
        }
      ]
    },
    {
      "cell_type": "code",
      "metadata": {
        "id": "z6MZaF7VGfQX",
        "colab_type": "code",
        "colab": {}
      },
      "source": [
        "def mileage_conv(car):\n",
        "  if car['Mileage'].split(maxsplit=1)[1] == 'km/kg':\n",
        "    if car['Fuel_Type']==3: #CNG\n",
        "      return float(car['Mileage'].split(maxsplit=1)[0])*0.621*2.567\n",
        "    else:                #LPG\n",
        "      return float(car['Mileage'].split(maxsplit=1)[0])*0.621*(1/(0.264*1.96))*1.247\n",
        "  if car.Mileage.split(maxsplit=1)[1] == 'kmpl':\n",
        "    if car['Fuel_Type']==2: #Diesel\n",
        "      return float(car['Mileage'].split(maxsplit=1)[0])*0.621*(1/0.264)*0.88\n",
        "    else:                #Petrol\n",
        "      return float(car['Mileage'].split(maxsplit=1)[0])*0.621*(1/0.264)\n",
        "  else:     #Electric\n",
        "    return float(car['Mileage'].split(maxsplit=1)[0])\n",
        "  \n",
        "train['Mileage']=train.apply(mileage_conv,axis=1)\n",
        "test['Mileage']=test.apply(mileage_conv,axis=1)\n",
        "  "
      ],
      "execution_count": 0,
      "outputs": []
    },
    {
      "cell_type": "code",
      "metadata": {
        "id": "S4j0EMZ7WGqi",
        "colab_type": "code",
        "colab": {
          "base_uri": "https://localhost:8080/",
          "height": 197
        },
        "outputId": "a1f64f74-7fcf-4f56-dfe5-eada982c5f24"
      },
      "source": [
        "train.head()"
      ],
      "execution_count": 47,
      "outputs": [
        {
          "output_type": "execute_result",
          "data": {
            "text/html": [
              "<div>\n",
              "<style scoped>\n",
              "    .dataframe tbody tr th:only-of-type {\n",
              "        vertical-align: middle;\n",
              "    }\n",
              "\n",
              "    .dataframe tbody tr th {\n",
              "        vertical-align: top;\n",
              "    }\n",
              "\n",
              "    .dataframe thead th {\n",
              "        text-align: right;\n",
              "    }\n",
              "</style>\n",
              "<table border=\"1\" class=\"dataframe\">\n",
              "  <thead>\n",
              "    <tr style=\"text-align: right;\">\n",
              "      <th></th>\n",
              "      <th>Name</th>\n",
              "      <th>Location</th>\n",
              "      <th>Year</th>\n",
              "      <th>Kilometers_Driven</th>\n",
              "      <th>Fuel_Type</th>\n",
              "      <th>Transmission</th>\n",
              "      <th>Owner_Type</th>\n",
              "      <th>Mileage</th>\n",
              "      <th>Engine</th>\n",
              "      <th>Power</th>\n",
              "      <th>Seats</th>\n",
              "      <th>Price</th>\n",
              "      <th>Brand</th>\n",
              "    </tr>\n",
              "  </thead>\n",
              "  <tbody>\n",
              "    <tr>\n",
              "      <th>0</th>\n",
              "      <td>Maruti Wagon R LXI CNG</td>\n",
              "      <td>6</td>\n",
              "      <td>2010</td>\n",
              "      <td>72000</td>\n",
              "      <td>4</td>\n",
              "      <td>1</td>\n",
              "      <td>1</td>\n",
              "      <td>39.808856</td>\n",
              "      <td>998.0</td>\n",
              "      <td>58.16 bhp</td>\n",
              "      <td>5</td>\n",
              "      <td>1.75</td>\n",
              "      <td>25</td>\n",
              "    </tr>\n",
              "    <tr>\n",
              "      <th>1</th>\n",
              "      <td>Hyundai Creta 1.6 CRDi SX Option</td>\n",
              "      <td>9</td>\n",
              "      <td>2015</td>\n",
              "      <td>41000</td>\n",
              "      <td>2</td>\n",
              "      <td>1</td>\n",
              "      <td>1</td>\n",
              "      <td>40.716900</td>\n",
              "      <td>1582.0</td>\n",
              "      <td>126.2 bhp</td>\n",
              "      <td>5</td>\n",
              "      <td>12.50</td>\n",
              "      <td>22</td>\n",
              "    </tr>\n",
              "    <tr>\n",
              "      <th>2</th>\n",
              "      <td>Honda Jazz V</td>\n",
              "      <td>8</td>\n",
              "      <td>2011</td>\n",
              "      <td>46000</td>\n",
              "      <td>3</td>\n",
              "      <td>1</td>\n",
              "      <td>1</td>\n",
              "      <td>42.811364</td>\n",
              "      <td>1199.0</td>\n",
              "      <td>88.7 bhp</td>\n",
              "      <td>5</td>\n",
              "      <td>4.50</td>\n",
              "      <td>21</td>\n",
              "    </tr>\n",
              "    <tr>\n",
              "      <th>3</th>\n",
              "      <td>Maruti Ertiga VDI</td>\n",
              "      <td>8</td>\n",
              "      <td>2012</td>\n",
              "      <td>87000</td>\n",
              "      <td>2</td>\n",
              "      <td>1</td>\n",
              "      <td>1</td>\n",
              "      <td>42.993900</td>\n",
              "      <td>1248.0</td>\n",
              "      <td>88.76 bhp</td>\n",
              "      <td>7</td>\n",
              "      <td>6.00</td>\n",
              "      <td>25</td>\n",
              "    </tr>\n",
              "    <tr>\n",
              "      <th>4</th>\n",
              "      <td>Audi A4 New 2.0 TDI Multitronic</td>\n",
              "      <td>1</td>\n",
              "      <td>2013</td>\n",
              "      <td>40670</td>\n",
              "      <td>2</td>\n",
              "      <td>0</td>\n",
              "      <td>2</td>\n",
              "      <td>31.464000</td>\n",
              "      <td>1968.0</td>\n",
              "      <td>140.8 bhp</td>\n",
              "      <td>5</td>\n",
              "      <td>17.74</td>\n",
              "      <td>9</td>\n",
              "    </tr>\n",
              "  </tbody>\n",
              "</table>\n",
              "</div>"
            ],
            "text/plain": [
              "                               Name  Location  Year  ...  Seats  Price  Brand\n",
              "0            Maruti Wagon R LXI CNG         6  2010  ...      5   1.75     25\n",
              "1  Hyundai Creta 1.6 CRDi SX Option         9  2015  ...      5  12.50     22\n",
              "2                      Honda Jazz V         8  2011  ...      5   4.50     21\n",
              "3                 Maruti Ertiga VDI         8  2012  ...      7   6.00     25\n",
              "4   Audi A4 New 2.0 TDI Multitronic         1  2013  ...      5  17.74      9\n",
              "\n",
              "[5 rows x 13 columns]"
            ]
          },
          "metadata": {
            "tags": []
          },
          "execution_count": 47
        }
      ]
    },
    {
      "cell_type": "code",
      "metadata": {
        "id": "ZYGbNPkFh7uF",
        "colab_type": "code",
        "colab": {
          "base_uri": "https://localhost:8080/",
          "height": 197
        },
        "outputId": "e9a77600-e85a-4dd0-c690-0d1942b43cda"
      },
      "source": [
        "test.head()"
      ],
      "execution_count": 48,
      "outputs": [
        {
          "output_type": "execute_result",
          "data": {
            "text/html": [
              "<div>\n",
              "<style scoped>\n",
              "    .dataframe tbody tr th:only-of-type {\n",
              "        vertical-align: middle;\n",
              "    }\n",
              "\n",
              "    .dataframe tbody tr th {\n",
              "        vertical-align: top;\n",
              "    }\n",
              "\n",
              "    .dataframe thead th {\n",
              "        text-align: right;\n",
              "    }\n",
              "</style>\n",
              "<table border=\"1\" class=\"dataframe\">\n",
              "  <thead>\n",
              "    <tr style=\"text-align: right;\">\n",
              "      <th></th>\n",
              "      <th>Name</th>\n",
              "      <th>Location</th>\n",
              "      <th>Year</th>\n",
              "      <th>Kilometers_Driven</th>\n",
              "      <th>Fuel_Type</th>\n",
              "      <th>Transmission</th>\n",
              "      <th>Owner_Type</th>\n",
              "      <th>Mileage</th>\n",
              "      <th>Engine</th>\n",
              "      <th>Power</th>\n",
              "      <th>Seats</th>\n",
              "      <th>Brand</th>\n",
              "    </tr>\n",
              "  </thead>\n",
              "  <tbody>\n",
              "    <tr>\n",
              "      <th>0</th>\n",
              "      <td>Maruti Alto K10 LXI CNG</td>\n",
              "      <td>5</td>\n",
              "      <td>2014</td>\n",
              "      <td>40929</td>\n",
              "      <td>4</td>\n",
              "      <td>1</td>\n",
              "      <td>1</td>\n",
              "      <td>48.279462</td>\n",
              "      <td>998.0</td>\n",
              "      <td>58.2 bhp</td>\n",
              "      <td>4</td>\n",
              "      <td>25</td>\n",
              "    </tr>\n",
              "    <tr>\n",
              "      <th>1</th>\n",
              "      <td>Maruti Alto 800 2016-2019 LXI</td>\n",
              "      <td>1</td>\n",
              "      <td>2013</td>\n",
              "      <td>54493</td>\n",
              "      <td>3</td>\n",
              "      <td>1</td>\n",
              "      <td>2</td>\n",
              "      <td>58.101136</td>\n",
              "      <td>796.0</td>\n",
              "      <td>47.3 bhp</td>\n",
              "      <td>5</td>\n",
              "      <td>25</td>\n",
              "    </tr>\n",
              "    <tr>\n",
              "      <th>2</th>\n",
              "      <td>Toyota Innova Crysta Touring Sport 2.4 MT</td>\n",
              "      <td>6</td>\n",
              "      <td>2017</td>\n",
              "      <td>34000</td>\n",
              "      <td>2</td>\n",
              "      <td>1</td>\n",
              "      <td>1</td>\n",
              "      <td>28.317600</td>\n",
              "      <td>2393.0</td>\n",
              "      <td>147.8 bhp</td>\n",
              "      <td>7</td>\n",
              "      <td>14</td>\n",
              "    </tr>\n",
              "    <tr>\n",
              "      <th>3</th>\n",
              "      <td>Toyota Etios Liva GD</td>\n",
              "      <td>4</td>\n",
              "      <td>2012</td>\n",
              "      <td>139000</td>\n",
              "      <td>2</td>\n",
              "      <td>1</td>\n",
              "      <td>1</td>\n",
              "      <td>48.831300</td>\n",
              "      <td>1364.0</td>\n",
              "      <td>67.04 bhp</td>\n",
              "      <td>5</td>\n",
              "      <td>14</td>\n",
              "    </tr>\n",
              "    <tr>\n",
              "      <th>4</th>\n",
              "      <td>Hyundai i20 Magna</td>\n",
              "      <td>6</td>\n",
              "      <td>2014</td>\n",
              "      <td>29000</td>\n",
              "      <td>3</td>\n",
              "      <td>1</td>\n",
              "      <td>1</td>\n",
              "      <td>43.517045</td>\n",
              "      <td>1197.0</td>\n",
              "      <td>82.85 bhp</td>\n",
              "      <td>5</td>\n",
              "      <td>22</td>\n",
              "    </tr>\n",
              "  </tbody>\n",
              "</table>\n",
              "</div>"
            ],
            "text/plain": [
              "                                        Name  Location  ...  Seats  Brand\n",
              "0                    Maruti Alto K10 LXI CNG         5  ...      4     25\n",
              "1              Maruti Alto 800 2016-2019 LXI         1  ...      5     25\n",
              "2  Toyota Innova Crysta Touring Sport 2.4 MT         6  ...      7     14\n",
              "3                       Toyota Etios Liva GD         4  ...      5     14\n",
              "4                          Hyundai i20 Magna         6  ...      5     22\n",
              "\n",
              "[5 rows x 12 columns]"
            ]
          },
          "metadata": {
            "tags": []
          },
          "execution_count": 48
        }
      ]
    },
    {
      "cell_type": "code",
      "metadata": {
        "id": "cgLNgN44h-TI",
        "colab_type": "code",
        "colab": {
          "base_uri": "https://localhost:8080/",
          "height": 197
        },
        "outputId": "b1b0c621-a8d7-4bd7-ca80-de0f45c3740a"
      },
      "source": [
        "def power_to_float(power_str):\n",
        "    return float(power_str.replace(\"bhp\",\"\"))\n",
        "\n",
        "train['Power']=train['Power'].apply(power_to_float)\n",
        "test['Power']=test['Power'].apply(power_to_float)\n",
        "\n",
        "test.head()\n"
      ],
      "execution_count": 49,
      "outputs": [
        {
          "output_type": "execute_result",
          "data": {
            "text/html": [
              "<div>\n",
              "<style scoped>\n",
              "    .dataframe tbody tr th:only-of-type {\n",
              "        vertical-align: middle;\n",
              "    }\n",
              "\n",
              "    .dataframe tbody tr th {\n",
              "        vertical-align: top;\n",
              "    }\n",
              "\n",
              "    .dataframe thead th {\n",
              "        text-align: right;\n",
              "    }\n",
              "</style>\n",
              "<table border=\"1\" class=\"dataframe\">\n",
              "  <thead>\n",
              "    <tr style=\"text-align: right;\">\n",
              "      <th></th>\n",
              "      <th>Name</th>\n",
              "      <th>Location</th>\n",
              "      <th>Year</th>\n",
              "      <th>Kilometers_Driven</th>\n",
              "      <th>Fuel_Type</th>\n",
              "      <th>Transmission</th>\n",
              "      <th>Owner_Type</th>\n",
              "      <th>Mileage</th>\n",
              "      <th>Engine</th>\n",
              "      <th>Power</th>\n",
              "      <th>Seats</th>\n",
              "      <th>Brand</th>\n",
              "    </tr>\n",
              "  </thead>\n",
              "  <tbody>\n",
              "    <tr>\n",
              "      <th>0</th>\n",
              "      <td>Maruti Alto K10 LXI CNG</td>\n",
              "      <td>5</td>\n",
              "      <td>2014</td>\n",
              "      <td>40929</td>\n",
              "      <td>4</td>\n",
              "      <td>1</td>\n",
              "      <td>1</td>\n",
              "      <td>48.279462</td>\n",
              "      <td>998.0</td>\n",
              "      <td>58.20</td>\n",
              "      <td>4</td>\n",
              "      <td>25</td>\n",
              "    </tr>\n",
              "    <tr>\n",
              "      <th>1</th>\n",
              "      <td>Maruti Alto 800 2016-2019 LXI</td>\n",
              "      <td>1</td>\n",
              "      <td>2013</td>\n",
              "      <td>54493</td>\n",
              "      <td>3</td>\n",
              "      <td>1</td>\n",
              "      <td>2</td>\n",
              "      <td>58.101136</td>\n",
              "      <td>796.0</td>\n",
              "      <td>47.30</td>\n",
              "      <td>5</td>\n",
              "      <td>25</td>\n",
              "    </tr>\n",
              "    <tr>\n",
              "      <th>2</th>\n",
              "      <td>Toyota Innova Crysta Touring Sport 2.4 MT</td>\n",
              "      <td>6</td>\n",
              "      <td>2017</td>\n",
              "      <td>34000</td>\n",
              "      <td>2</td>\n",
              "      <td>1</td>\n",
              "      <td>1</td>\n",
              "      <td>28.317600</td>\n",
              "      <td>2393.0</td>\n",
              "      <td>147.80</td>\n",
              "      <td>7</td>\n",
              "      <td>14</td>\n",
              "    </tr>\n",
              "    <tr>\n",
              "      <th>3</th>\n",
              "      <td>Toyota Etios Liva GD</td>\n",
              "      <td>4</td>\n",
              "      <td>2012</td>\n",
              "      <td>139000</td>\n",
              "      <td>2</td>\n",
              "      <td>1</td>\n",
              "      <td>1</td>\n",
              "      <td>48.831300</td>\n",
              "      <td>1364.0</td>\n",
              "      <td>67.04</td>\n",
              "      <td>5</td>\n",
              "      <td>14</td>\n",
              "    </tr>\n",
              "    <tr>\n",
              "      <th>4</th>\n",
              "      <td>Hyundai i20 Magna</td>\n",
              "      <td>6</td>\n",
              "      <td>2014</td>\n",
              "      <td>29000</td>\n",
              "      <td>3</td>\n",
              "      <td>1</td>\n",
              "      <td>1</td>\n",
              "      <td>43.517045</td>\n",
              "      <td>1197.0</td>\n",
              "      <td>82.85</td>\n",
              "      <td>5</td>\n",
              "      <td>22</td>\n",
              "    </tr>\n",
              "  </tbody>\n",
              "</table>\n",
              "</div>"
            ],
            "text/plain": [
              "                                        Name  Location  ...  Seats  Brand\n",
              "0                    Maruti Alto K10 LXI CNG         5  ...      4     25\n",
              "1              Maruti Alto 800 2016-2019 LXI         1  ...      5     25\n",
              "2  Toyota Innova Crysta Touring Sport 2.4 MT         6  ...      7     14\n",
              "3                       Toyota Etios Liva GD         4  ...      5     14\n",
              "4                          Hyundai i20 Magna         6  ...      5     22\n",
              "\n",
              "[5 rows x 12 columns]"
            ]
          },
          "metadata": {
            "tags": []
          },
          "execution_count": 49
        }
      ]
    },
    {
      "cell_type": "code",
      "metadata": {
        "id": "zjv5KcIQjVw9",
        "colab_type": "code",
        "colab": {}
      },
      "source": [
        "#dropping name\n",
        "train.drop('Name',axis=1,inplace=True)\n",
        "test.drop('Name',axis=1,inplace=True)"
      ],
      "execution_count": 0,
      "outputs": []
    },
    {
      "cell_type": "code",
      "metadata": {
        "id": "PG2WXvHOjZCU",
        "colab_type": "code",
        "colab": {}
      },
      "source": [
        "train.to_csv('num_train.csv', index=False)\n",
        "test.to_csv('num_test.csv', index=False)"
      ],
      "execution_count": 0,
      "outputs": []
    },
    {
      "cell_type": "code",
      "metadata": {
        "id": "u5Y78GqckRhm",
        "colab_type": "code",
        "outputId": "7ba94f82-bb85-424f-df86-f4668ee21060",
        "colab": {
          "base_uri": "https://localhost:8080/",
          "height": 615
        }
      },
      "source": [
        "sns.heatmap(train.corr(),annot=True)"
      ],
      "execution_count": 53,
      "outputs": [
        {
          "output_type": "execute_result",
          "data": {
            "text/plain": [
              "<matplotlib.axes._subplots.AxesSubplot at 0x7f612cdbf2e8>"
            ]
          },
          "metadata": {
            "tags": []
          },
          "execution_count": 53
        },
        {
          "output_type": "display_data",
          "data": {
            "image/png": "[encoded data removed]",
            "text/plain": [
              "<Figure size 842.4x595.44 with 2 Axes>"
            ]
          },
          "metadata": {
            "tags": []
          }
        }
      ]
    },
    {
      "cell_type": "code",
      "metadata": {
        "id": "m9sv_0HHqhWs",
        "colab_type": "code",
        "colab": {}
      },
      "source": [
        ""
      ],
      "execution_count": 0,
      "outputs": []
    }
  ]
}